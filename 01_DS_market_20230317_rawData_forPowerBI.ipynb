{
 "cells": [
  {
   "cell_type": "code",
   "execution_count": 1,
   "id": "380dd9c8",
   "metadata": {
    "executionInfo": {
     "elapsed": 330,
     "status": "ok",
     "timestamp": 1678625705658,
     "user": {
      "displayName": "Sol Etcheverry",
      "userId": "02127738587789653386"
     },
     "user_tz": -60
    },
    "id": "380dd9c8",
    "tags": []
   },
   "outputs": [],
   "source": [
    "# Cargamos librerías\n",
    "import pandas as pd \n",
    "import numpy as np\n",
    "from pickle import TRUE\n",
    "\n",
    "# para modelos\n",
    "from sklearn.preprocessing import LabelEncoder,MinMaxScaler\n",
    "\n",
    "# plots\n",
    "import matplotlib.pyplot as plt\n",
    "import seaborn as sns\n",
    "%matplotlib inline\n",
    "import plotly.express as px\n",
    "\n",
    "# manejo de datatime\n",
    "import calendar\n",
    "import datetime\n",
    "from datetime import timedelta, datetime\n",
    "from enum import IntEnum\n",
    "\n",
    "# acceso a sistema\n",
    "import sys\n",
    "import os \n",
    "\n",
    "# GLOBAL_VARIABLES\n",
    "from platform import python_version\n",
    "CWD = os.getcwd()\n",
    "DATA_PATH = os.path.join(CWD, \"../data_dsmarket\")"
   ]
  },
  {
   "cell_type": "code",
   "execution_count": 2,
   "id": "2359b565",
   "metadata": {
    "colab": {
     "base_uri": "https://localhost:8080/"
    },
    "executionInfo": {
     "elapsed": 466,
     "status": "ok",
     "timestamp": 1678618826428,
     "user": {
      "displayName": "Sol Etcheverry",
      "userId": "02127738587789653386"
     },
     "user_tz": -60
    },
    "id": "2359b565",
    "outputId": "79eede57-0de5-4aa9-f3a6-ee0d990ba7c8",
    "tags": []
   },
   "outputs": [
    {
     "name": "stdout",
     "output_type": "stream",
     "text": [
      "Working with these versions of libraries\n",
      "\n",
      "Numpy version 1.24.1\n",
      "Pandas version 1.5.3\n",
      "Python version 3.8.16\n",
      "\n",
      "Directorio actual\n",
      " /Users/nono/Downloads/nuclio/TFM/fase02_clusters\n",
      "\n",
      "Directorio con conjunto de datos\n",
      " /Users/nono/Downloads/nuclio/TFM/fase02_clusters/../data_dsmarket\n"
     ]
    }
   ],
   "source": [
    "print(\"Working with these versions of libraries\\n\")\n",
    "print(f\"Numpy version {np.__version__}\")\n",
    "print(f\"Pandas version {pd.__version__}\")\n",
    "print(f\"Python version {python_version()}\")\n",
    "\n",
    "print(\"\\nDirectorio actual\\n\",CWD)\n",
    "print(\"\\nDirectorio con conjunto de datos\\n\",DATA_PATH)"
   ]
  },
  {
   "cell_type": "code",
   "execution_count": 3,
   "id": "91a56b2a",
   "metadata": {
    "executionInfo": {
     "elapsed": 305,
     "status": "ok",
     "timestamp": 1678625728764,
     "user": {
      "displayName": "Sol Etcheverry",
      "userId": "02127738587789653386"
     },
     "user_tz": -60
    },
    "id": "91a56b2a",
    "tags": []
   },
   "outputs": [],
   "source": [
    "# Funciones\n",
    "\n",
    "def datosGenerales(df):\n",
    "    # Vemos un shape\n",
    "    print(\"Su shape\",df.shape);\n",
    "\n",
    "    # vemos número de duplicados\n",
    "    print(\"El número de duplicados es \",\\\n",
    "          df.duplicated().sum());\n",
    "    \n",
    "    # vemos recuento de nulos y si los hay, vemos su porcentaje\n",
    "    return df.isnull().sum().apply(lambda row:\n",
    "                                    f\"{row} nulos, {round(row / df.shape[0]*100,2)} %\"\n",
    "                                       if row != 0 else f\"{row} nulos ________\")\n",
    "    \n",
    "def cambioFormato(dataset, atributos, tipo):\n",
    "    dataset[atributos] = dataset[atributos].astype(tipo)"
   ]
  },
  {
   "cell_type": "markdown",
   "id": "18179150",
   "metadata": {
    "id": "18179150"
   },
   "source": [
    "We upload the 3 datasets:\n",
    "\n",
    "*   **df_sales** indicates the sales divided by day and location\n",
    "*   **df_prices** indicates the products, its cathegory and the price that will depend on the week in which the product has been sold\n",
    "*   **df_events** is a calendar that indicates the days, the week and the possible events"
   ]
  },
  {
   "cell_type": "code",
   "execution_count": 4,
   "id": "4c76cd55",
   "metadata": {
    "colab": {
     "base_uri": "https://localhost:8080/"
    },
    "executionInfo": {
     "elapsed": 7506,
     "status": "ok",
     "timestamp": 1678625740599,
     "user": {
      "displayName": "Sol Etcheverry",
      "userId": "02127738587789653386"
     },
     "user_tz": -60
    },
    "id": "4c76cd55",
    "outputId": "864ff1ce-2d47-4da8-bb93-ae126565da25",
    "tags": []
   },
   "outputs": [
    {
     "name": "stdout",
     "output_type": "stream",
     "text": [
      "CPU times: user 4.96 s, sys: 516 ms, total: 5.48 s\n",
      "Wall time: 5.48 s\n"
     ]
    }
   ],
   "source": [
    "%%time\n",
    "# Cargamos los ficheros csv\n",
    "\n",
    "df_events = pd.read_csv(os.path.join(DATA_PATH, 'daily_calendar_with_events_new.csv'), sep=';')\n",
    "df_prices = pd.read_csv(os.path.join(DATA_PATH,'item_prices.csv'), sep=',')\n",
    "df_sales = pd.read_csv(os.path.join(DATA_PATH,'item_sales.csv'), sep=',')"
   ]
  },
  {
   "cell_type": "code",
   "execution_count": 5,
   "id": "50a13091",
   "metadata": {
    "id": "50a13091",
    "tags": []
   },
   "outputs": [],
   "source": [
    "df_calendar = pd.read_csv(f'{DATA_PATH}/df_calendar_final_20230317.csv',sep=\",\")"
   ]
  },
  {
   "cell_type": "markdown",
   "id": "bd25e5c2",
   "metadata": {
    "id": "bd25e5c2"
   },
   "source": [
    "## Trabajamos con el calendario limpio"
   ]
  },
  {
   "cell_type": "code",
   "execution_count": 6,
   "id": "aa1e529c",
   "metadata": {
    "id": "aa1e529c",
    "tags": []
   },
   "outputs": [],
   "source": [
    "df_calendar.drop('Unnamed: 0',axis=1,inplace=True)\n",
    "df_calendar['date'] = pd.to_datetime(df_calendar['date'])"
   ]
  },
  {
   "cell_type": "code",
   "execution_count": 7,
   "id": "e0827019",
   "metadata": {
    "colab": {
     "base_uri": "https://localhost:8080/"
    },
    "executionInfo": {
     "elapsed": 4,
     "status": "ok",
     "timestamp": 1678618958217,
     "user": {
      "displayName": "Sol Etcheverry",
      "userId": "02127738587789653386"
     },
     "user_tz": -60
    },
    "id": "e0827019",
    "outputId": "573fe29f-06ed-467d-aa2c-b0958cbc8452",
    "tags": []
   },
   "outputs": [
    {
     "name": "stdout",
     "output_type": "stream",
     "text": [
      "<class 'pandas.core.frame.DataFrame'>\n",
      "RangeIndex: 1913 entries, 0 to 1912\n",
      "Data columns (total 10 columns):\n",
      " #   Column         Non-Null Count  Dtype         \n",
      "---  ------         --------------  -----         \n",
      " 0   date           1913 non-null   datetime64[ns]\n",
      " 1   mes            1913 non-null   int64         \n",
      " 2   weekday        1913 non-null   object        \n",
      " 3   weekday_int    1913 non-null   int64         \n",
      " 4   d              1913 non-null   object        \n",
      " 5   event          1913 non-null   object        \n",
      " 6   festivos_eeuu  1913 non-null   object        \n",
      " 7   year_false     1913 non-null   int64         \n",
      " 8   week_false     1913 non-null   int64         \n",
      " 9   yearweek       1913 non-null   int64         \n",
      "dtypes: datetime64[ns](1), int64(5), object(4)\n",
      "memory usage: 149.6+ KB\n"
     ]
    }
   ],
   "source": [
    "df_calendar.info()"
   ]
  },
  {
   "cell_type": "code",
   "execution_count": 8,
   "id": "5377b689",
   "metadata": {
    "colab": {
     "base_uri": "https://localhost:8080/",
     "height": 206
    },
    "executionInfo": {
     "elapsed": 6,
     "status": "ok",
     "timestamp": 1678618959663,
     "user": {
      "displayName": "Sol Etcheverry",
      "userId": "02127738587789653386"
     },
     "user_tz": -60
    },
    "id": "5377b689",
    "outputId": "0571c664-d789-4c91-eedc-cec261204295",
    "tags": []
   },
   "outputs": [
    {
     "data": {
      "text/html": [
       "<div>\n",
       "<style scoped>\n",
       "    .dataframe tbody tr th:only-of-type {\n",
       "        vertical-align: middle;\n",
       "    }\n",
       "\n",
       "    .dataframe tbody tr th {\n",
       "        vertical-align: top;\n",
       "    }\n",
       "\n",
       "    .dataframe thead th {\n",
       "        text-align: right;\n",
       "    }\n",
       "</style>\n",
       "<table border=\"1\" class=\"dataframe\">\n",
       "  <thead>\n",
       "    <tr style=\"text-align: right;\">\n",
       "      <th></th>\n",
       "      <th>date</th>\n",
       "      <th>mes</th>\n",
       "      <th>weekday</th>\n",
       "      <th>weekday_int</th>\n",
       "      <th>d</th>\n",
       "      <th>event</th>\n",
       "      <th>festivos_eeuu</th>\n",
       "      <th>year_false</th>\n",
       "      <th>week_false</th>\n",
       "      <th>yearweek</th>\n",
       "    </tr>\n",
       "  </thead>\n",
       "  <tbody>\n",
       "    <tr>\n",
       "      <th>0</th>\n",
       "      <td>2011-01-29</td>\n",
       "      <td>1</td>\n",
       "      <td>Saturday</td>\n",
       "      <td>1</td>\n",
       "      <td>d_1</td>\n",
       "      <td>No event</td>\n",
       "      <td>No event</td>\n",
       "      <td>2011</td>\n",
       "      <td>5</td>\n",
       "      <td>201105</td>\n",
       "    </tr>\n",
       "    <tr>\n",
       "      <th>1</th>\n",
       "      <td>2011-01-30</td>\n",
       "      <td>1</td>\n",
       "      <td>Sunday</td>\n",
       "      <td>2</td>\n",
       "      <td>d_2</td>\n",
       "      <td>No event</td>\n",
       "      <td>No event</td>\n",
       "      <td>2011</td>\n",
       "      <td>5</td>\n",
       "      <td>201105</td>\n",
       "    </tr>\n",
       "    <tr>\n",
       "      <th>2</th>\n",
       "      <td>2011-01-31</td>\n",
       "      <td>1</td>\n",
       "      <td>Monday</td>\n",
       "      <td>3</td>\n",
       "      <td>d_3</td>\n",
       "      <td>No event</td>\n",
       "      <td>No event</td>\n",
       "      <td>2011</td>\n",
       "      <td>5</td>\n",
       "      <td>201105</td>\n",
       "    </tr>\n",
       "    <tr>\n",
       "      <th>3</th>\n",
       "      <td>2011-02-01</td>\n",
       "      <td>2</td>\n",
       "      <td>Tuesday</td>\n",
       "      <td>4</td>\n",
       "      <td>d_4</td>\n",
       "      <td>No event</td>\n",
       "      <td>No event</td>\n",
       "      <td>2011</td>\n",
       "      <td>5</td>\n",
       "      <td>201105</td>\n",
       "    </tr>\n",
       "    <tr>\n",
       "      <th>4</th>\n",
       "      <td>2011-02-02</td>\n",
       "      <td>2</td>\n",
       "      <td>Wednesday</td>\n",
       "      <td>5</td>\n",
       "      <td>d_5</td>\n",
       "      <td>No event</td>\n",
       "      <td>No event</td>\n",
       "      <td>2011</td>\n",
       "      <td>5</td>\n",
       "      <td>201105</td>\n",
       "    </tr>\n",
       "    <tr>\n",
       "      <th>5</th>\n",
       "      <td>2011-02-03</td>\n",
       "      <td>2</td>\n",
       "      <td>Thursday</td>\n",
       "      <td>6</td>\n",
       "      <td>d_6</td>\n",
       "      <td>No event</td>\n",
       "      <td>No event</td>\n",
       "      <td>2011</td>\n",
       "      <td>5</td>\n",
       "      <td>201105</td>\n",
       "    </tr>\n",
       "    <tr>\n",
       "      <th>6</th>\n",
       "      <td>2011-02-04</td>\n",
       "      <td>2</td>\n",
       "      <td>Friday</td>\n",
       "      <td>7</td>\n",
       "      <td>d_7</td>\n",
       "      <td>No event</td>\n",
       "      <td>No event</td>\n",
       "      <td>2011</td>\n",
       "      <td>5</td>\n",
       "      <td>201105</td>\n",
       "    </tr>\n",
       "    <tr>\n",
       "      <th>7</th>\n",
       "      <td>2011-02-05</td>\n",
       "      <td>2</td>\n",
       "      <td>Saturday</td>\n",
       "      <td>1</td>\n",
       "      <td>d_8</td>\n",
       "      <td>No event</td>\n",
       "      <td>No event</td>\n",
       "      <td>2011</td>\n",
       "      <td>6</td>\n",
       "      <td>201106</td>\n",
       "    </tr>\n",
       "    <tr>\n",
       "      <th>8</th>\n",
       "      <td>2011-02-06</td>\n",
       "      <td>2</td>\n",
       "      <td>Sunday</td>\n",
       "      <td>2</td>\n",
       "      <td>d_9</td>\n",
       "      <td>SuperBowl</td>\n",
       "      <td>SuperBowl</td>\n",
       "      <td>2011</td>\n",
       "      <td>6</td>\n",
       "      <td>201106</td>\n",
       "    </tr>\n",
       "    <tr>\n",
       "      <th>9</th>\n",
       "      <td>2011-02-07</td>\n",
       "      <td>2</td>\n",
       "      <td>Monday</td>\n",
       "      <td>3</td>\n",
       "      <td>d_10</td>\n",
       "      <td>No event</td>\n",
       "      <td>No event</td>\n",
       "      <td>2011</td>\n",
       "      <td>6</td>\n",
       "      <td>201106</td>\n",
       "    </tr>\n",
       "  </tbody>\n",
       "</table>\n",
       "</div>"
      ],
      "text/plain": [
       "        date  mes    weekday  weekday_int     d      event festivos_eeuu  \\\n",
       "0 2011-01-29    1   Saturday            1   d_1   No event      No event   \n",
       "1 2011-01-30    1     Sunday            2   d_2   No event      No event   \n",
       "2 2011-01-31    1     Monday            3   d_3   No event      No event   \n",
       "3 2011-02-01    2    Tuesday            4   d_4   No event      No event   \n",
       "4 2011-02-02    2  Wednesday            5   d_5   No event      No event   \n",
       "5 2011-02-03    2   Thursday            6   d_6   No event      No event   \n",
       "6 2011-02-04    2     Friday            7   d_7   No event      No event   \n",
       "7 2011-02-05    2   Saturday            1   d_8   No event      No event   \n",
       "8 2011-02-06    2     Sunday            2   d_9  SuperBowl     SuperBowl   \n",
       "9 2011-02-07    2     Monday            3  d_10   No event      No event   \n",
       "\n",
       "   year_false  week_false  yearweek  \n",
       "0        2011           5    201105  \n",
       "1        2011           5    201105  \n",
       "2        2011           5    201105  \n",
       "3        2011           5    201105  \n",
       "4        2011           5    201105  \n",
       "5        2011           5    201105  \n",
       "6        2011           5    201105  \n",
       "7        2011           6    201106  \n",
       "8        2011           6    201106  \n",
       "9        2011           6    201106  "
      ]
     },
     "execution_count": 8,
     "metadata": {},
     "output_type": "execute_result"
    }
   ],
   "source": [
    "df_calendar.head(10)"
   ]
  },
  {
   "cell_type": "code",
   "execution_count": 9,
   "id": "cf829cdc",
   "metadata": {
    "id": "cf829cdc",
    "tags": []
   },
   "outputs": [],
   "source": [
    "df_calendar['yearweek']=df_calendar['yearweek'].astype('object')"
   ]
  },
  {
   "cell_type": "code",
   "execution_count": 10,
   "id": "e73057f7",
   "metadata": {
    "id": "e73057f7",
    "tags": []
   },
   "outputs": [],
   "source": [
    "# Obtenemos las semanas y lo pasamos a una lista\n",
    "semanas=df_calendar[['yearweek']].value_counts().to_frame().sort_values(by='yearweek').reset_index()\n",
    "lista_semanas=semanas['yearweek'].to_list()"
   ]
  },
  {
   "cell_type": "code",
   "execution_count": 11,
   "id": "d5b13034-1a07-4a80-86e3-916396530268",
   "metadata": {
    "tags": []
   },
   "outputs": [
    {
     "name": "stdout",
     "output_type": "stream",
     "text": [
      "201617\n",
      "201616\n"
     ]
    }
   ],
   "source": [
    "# comprobamos que tenemos la última semana incompleta\n",
    "# Procederemos a borrarla\n",
    "print(lista_semanas[-1]);\n",
    "lista_semanas.pop()\n",
    "print(lista_semanas[-1]);"
   ]
  },
  {
   "cell_type": "code",
   "execution_count": 12,
   "id": "d30ec6e9",
   "metadata": {
    "colab": {
     "base_uri": "https://localhost:8080/"
    },
    "executionInfo": {
     "elapsed": 306,
     "status": "ok",
     "timestamp": 1678618969012,
     "user": {
      "displayName": "Sol Etcheverry",
      "userId": "02127738587789653386"
     },
     "user_tz": -60
    },
    "id": "d30ec6e9",
    "outputId": "5ec9cca2-6938-40a2-890b-b959a72a606c",
    "tags": []
   },
   "outputs": [
    {
     "data": {
      "text/plain": [
       "30490"
      ]
     },
     "execution_count": 12,
     "metadata": {},
     "output_type": "execute_result"
    }
   ],
   "source": [
    "# Agrupacion de ventas por semana. VOY DIRECTO ABAJO DE PRICES\n",
    "# TENGO Q HACER EL PRODUCTO CARTESIANO ENTRE PRODUCTOS Y FECHAS\n",
    "unique_id=df_sales['id'].unique()\n",
    "len(unique_id)"
   ]
  },
  {
   "cell_type": "code",
   "execution_count": 13,
   "id": "38921c6c",
   "metadata": {
    "colab": {
     "base_uri": "https://localhost:8080/"
    },
    "executionInfo": {
     "elapsed": 7,
     "status": "ok",
     "timestamp": 1678618969012,
     "user": {
      "displayName": "Sol Etcheverry",
      "userId": "02127738587789653386"
     },
     "user_tz": -60
    },
    "id": "38921c6c",
    "outputId": "4eb60bda-2683-44a0-c0d7-8f45b2e61343",
    "tags": []
   },
   "outputs": [
    {
     "data": {
      "text/plain": [
       "8323770"
      ]
     },
     "execution_count": 13,
     "metadata": {},
     "output_type": "execute_result"
    }
   ],
   "source": [
    "# Creamos el producto cartesiano\n",
    "cartesian_product = pd.MultiIndex.from_product([lista_semanas, unique_id], names = [\"week\", \"id\"])\n",
    "len(cartesian_product)"
   ]
  },
  {
   "cell_type": "code",
   "execution_count": 14,
   "id": "52650dce",
   "metadata": {
    "id": "52650dce",
    "tags": []
   },
   "outputs": [],
   "source": [
    "full_df = pd.DataFrame(index = cartesian_product).reset_index()"
   ]
  },
  {
   "cell_type": "code",
   "execution_count": 15,
   "id": "4a0612e3",
   "metadata": {
    "colab": {
     "base_uri": "https://localhost:8080/",
     "height": 143
    },
    "executionInfo": {
     "elapsed": 7,
     "status": "ok",
     "timestamp": 1678618970729,
     "user": {
      "displayName": "Sol Etcheverry",
      "userId": "02127738587789653386"
     },
     "user_tz": -60
    },
    "id": "4a0612e3",
    "outputId": "fc4408e5-3afc-48b7-bff9-4ed814138201",
    "tags": []
   },
   "outputs": [
    {
     "data": {
      "text/html": [
       "<div>\n",
       "<style scoped>\n",
       "    .dataframe tbody tr th:only-of-type {\n",
       "        vertical-align: middle;\n",
       "    }\n",
       "\n",
       "    .dataframe tbody tr th {\n",
       "        vertical-align: top;\n",
       "    }\n",
       "\n",
       "    .dataframe thead th {\n",
       "        text-align: right;\n",
       "    }\n",
       "</style>\n",
       "<table border=\"1\" class=\"dataframe\">\n",
       "  <thead>\n",
       "    <tr style=\"text-align: right;\">\n",
       "      <th></th>\n",
       "      <th>week</th>\n",
       "      <th>id</th>\n",
       "    </tr>\n",
       "  </thead>\n",
       "  <tbody>\n",
       "    <tr>\n",
       "      <th>8323767</th>\n",
       "      <td>201616</td>\n",
       "      <td>SUPERMARKET_3_825_PHI_3</td>\n",
       "    </tr>\n",
       "    <tr>\n",
       "      <th>8323768</th>\n",
       "      <td>201616</td>\n",
       "      <td>SUPERMARKET_3_826_PHI_3</td>\n",
       "    </tr>\n",
       "    <tr>\n",
       "      <th>8323769</th>\n",
       "      <td>201616</td>\n",
       "      <td>SUPERMARKET_3_827_PHI_3</td>\n",
       "    </tr>\n",
       "  </tbody>\n",
       "</table>\n",
       "</div>"
      ],
      "text/plain": [
       "           week                       id\n",
       "8323767  201616  SUPERMARKET_3_825_PHI_3\n",
       "8323768  201616  SUPERMARKET_3_826_PHI_3\n",
       "8323769  201616  SUPERMARKET_3_827_PHI_3"
      ]
     },
     "execution_count": 15,
     "metadata": {},
     "output_type": "execute_result"
    }
   ],
   "source": [
    "full_df.tail(3)"
   ]
  },
  {
   "cell_type": "markdown",
   "id": "0599c4d5",
   "metadata": {
    "id": "0599c4d5"
   },
   "source": [
    "## Transposición de las columnas\n",
    "Paso siguiente: a las ventas ponerle fechas --> cruzarlo con calendar, y pasarlo a weeks (**resample**)\n",
    "y despues lo cruzamos con este full_df(producto cartesiano) \n"
   ]
  },
  {
   "cell_type": "code",
   "execution_count": 16,
   "id": "297c3bbf",
   "metadata": {
    "id": "297c3bbf",
    "tags": []
   },
   "outputs": [],
   "source": [
    "columns_cat = ['item',\n",
    "               'category',\n",
    "               'department',\n",
    "               'store',\n",
    "               'store_code',\n",
    "               'region']"
   ]
  },
  {
   "cell_type": "code",
   "execution_count": 17,
   "id": "d28f6a24",
   "metadata": {
    "id": "d28f6a24",
    "tags": []
   },
   "outputs": [],
   "source": [
    "cambioFormato(df_sales, columns_cat, 'category')"
   ]
  },
  {
   "cell_type": "code",
   "execution_count": 18,
   "id": "9b70237e",
   "metadata": {
    "colab": {
     "base_uri": "https://localhost:8080/"
    },
    "executionInfo": {
     "elapsed": 6695,
     "status": "ok",
     "timestamp": 1678618984303,
     "user": {
      "displayName": "Sol Etcheverry",
      "userId": "02127738587789653386"
     },
     "user_tz": -60
    },
    "id": "9b70237e",
    "outputId": "296cc1e1-9c53-494a-c801-bd3afd5d2028",
    "tags": []
   },
   "outputs": [
    {
     "name": "stdout",
     "output_type": "stream",
     "text": [
      "CPU times: user 7.82 s, sys: 1.4 s, total: 9.22 s\n",
      "Wall time: 9.2 s\n"
     ]
    }
   ],
   "source": [
    "%%time\n",
    "# melt >> es útil para enviar mensajes a un DataFrame en un formato en el que una o más columnas son\n",
    "# variables de identificación, mientras que todas las demás columnas, consideradas variables medidas,\n",
    "# no están vinculadas al eje de la fila, dejando solo dos columnas sin identificador, variable y valor. \n",
    "### Resumiendo, deshacemos el pivot aplicando los identificadores y los pivotados. ###\n",
    "\n",
    "# id_vars[tupla, lista o ndarray, opcional] : Columna(s) para usar como variables de identificación. \n",
    "# value_vars[tupla, lista o ndarray, opcional]: Columna(s) para anular el pivote. Si no se especifica,\n",
    "# usa todas las columnas que no están configuradas como id_vars. \n",
    "# var_name[scalar]: Nombre a usar para la columna ‘variable’. Si es Ninguno, usa marco.columnas.nombre\n",
    "# o ‘variable’. \n",
    "# value_name[scalar, default ‘value’]: Nombre a usar para la columna ‘value’. \n",
    "# col_level[int o string, opcional]: si las columnas son un índice múltiple, use este nivel para derretir. (#nono)\n",
    "\n",
    "df_sales_melted = df_sales.melt(id_vars=['id',\n",
    "                                         'item',\n",
    "                                         'category',\n",
    "                                         'department',\n",
    "                                         'store',\n",
    "                                         'store_code',\n",
    "                                         'region'],\n",
    "                                value_vars=df_sales.columns[7:],\n",
    "                                var_name='d',\n",
    "                                value_name='sales')"
   ]
  },
  {
   "cell_type": "code",
   "execution_count": 19,
   "id": "65b3fa7e",
   "metadata": {
    "colab": {
     "base_uri": "https://localhost:8080/",
     "height": 211
    },
    "executionInfo": {
     "elapsed": 521,
     "status": "ok",
     "timestamp": 1678618988722,
     "user": {
      "displayName": "Sol Etcheverry",
      "userId": "02127738587789653386"
     },
     "user_tz": -60
    },
    "id": "65b3fa7e",
    "outputId": "5f3e63e6-6e12-4393-b8a5-6333d2f38029",
    "tags": []
   },
   "outputs": [
    {
     "data": {
      "text/html": [
       "<div>\n",
       "<style scoped>\n",
       "    .dataframe tbody tr th:only-of-type {\n",
       "        vertical-align: middle;\n",
       "    }\n",
       "\n",
       "    .dataframe tbody tr th {\n",
       "        vertical-align: top;\n",
       "    }\n",
       "\n",
       "    .dataframe thead th {\n",
       "        text-align: right;\n",
       "    }\n",
       "</style>\n",
       "<table border=\"1\" class=\"dataframe\">\n",
       "  <thead>\n",
       "    <tr style=\"text-align: right;\">\n",
       "      <th></th>\n",
       "      <th>id</th>\n",
       "      <th>item</th>\n",
       "      <th>category</th>\n",
       "      <th>department</th>\n",
       "      <th>store</th>\n",
       "      <th>store_code</th>\n",
       "      <th>region</th>\n",
       "      <th>d</th>\n",
       "      <th>sales</th>\n",
       "    </tr>\n",
       "  </thead>\n",
       "  <tbody>\n",
       "    <tr>\n",
       "      <th>0</th>\n",
       "      <td>ACCESORIES_1_001_NYC_1</td>\n",
       "      <td>ACCESORIES_1_001</td>\n",
       "      <td>ACCESORIES</td>\n",
       "      <td>ACCESORIES_1</td>\n",
       "      <td>Greenwich_Village</td>\n",
       "      <td>NYC_1</td>\n",
       "      <td>New York</td>\n",
       "      <td>d_1</td>\n",
       "      <td>0</td>\n",
       "    </tr>\n",
       "    <tr>\n",
       "      <th>1</th>\n",
       "      <td>ACCESORIES_1_002_NYC_1</td>\n",
       "      <td>ACCESORIES_1_002</td>\n",
       "      <td>ACCESORIES</td>\n",
       "      <td>ACCESORIES_1</td>\n",
       "      <td>Greenwich_Village</td>\n",
       "      <td>NYC_1</td>\n",
       "      <td>New York</td>\n",
       "      <td>d_1</td>\n",
       "      <td>0</td>\n",
       "    </tr>\n",
       "  </tbody>\n",
       "</table>\n",
       "</div>"
      ],
      "text/plain": [
       "                       id              item    category    department  \\\n",
       "0  ACCESORIES_1_001_NYC_1  ACCESORIES_1_001  ACCESORIES  ACCESORIES_1   \n",
       "1  ACCESORIES_1_002_NYC_1  ACCESORIES_1_002  ACCESORIES  ACCESORIES_1   \n",
       "\n",
       "               store store_code    region    d  sales  \n",
       "0  Greenwich_Village      NYC_1  New York  d_1      0  \n",
       "1  Greenwich_Village      NYC_1  New York  d_1      0  "
      ]
     },
     "execution_count": 19,
     "metadata": {},
     "output_type": "execute_result"
    }
   ],
   "source": [
    "df_sales_melted.head(2)"
   ]
  },
  {
   "cell_type": "code",
   "execution_count": 20,
   "id": "b27511db",
   "metadata": {
    "colab": {
     "base_uri": "https://localhost:8080/"
    },
    "executionInfo": {
     "elapsed": 4,
     "status": "ok",
     "timestamp": 1678618989127,
     "user": {
      "displayName": "Sol Etcheverry",
      "userId": "02127738587789653386"
     },
     "user_tz": -60
    },
    "id": "b27511db",
    "outputId": "94972474-d291-49a3-af35-a78fef11e09b",
    "tags": []
   },
   "outputs": [
    {
     "name": "stdout",
     "output_type": "stream",
     "text": [
      "<class 'pandas.core.frame.DataFrame'>\n",
      "RangeIndex: 58327370 entries, 0 to 58327369\n",
      "Data columns (total 9 columns):\n",
      " #   Column      Dtype   \n",
      "---  ------      -----   \n",
      " 0   id          object  \n",
      " 1   item        category\n",
      " 2   category    category\n",
      " 3   department  category\n",
      " 4   store       category\n",
      " 5   store_code  category\n",
      " 6   region      category\n",
      " 7   d           object  \n",
      " 8   sales       int64   \n",
      "dtypes: category(6), int64(1), object(2)\n",
      "memory usage: 1.7+ GB\n"
     ]
    }
   ],
   "source": [
    "df_sales_melted.info()"
   ]
  },
  {
   "cell_type": "code",
   "execution_count": 21,
   "id": "7da9a6af",
   "metadata": {
    "colab": {
     "base_uri": "https://localhost:8080/",
     "height": 332
    },
    "executionInfo": {
     "elapsed": 5,
     "status": "ok",
     "timestamp": 1678618992673,
     "user": {
      "displayName": "Sol Etcheverry",
      "userId": "02127738587789653386"
     },
     "user_tz": -60
    },
    "id": "7da9a6af",
    "outputId": "879f4ff9-f235-4b81-cbd6-6682fab24e4c",
    "tags": []
   },
   "outputs": [
    {
     "data": {
      "text/html": [
       "<div>\n",
       "<style scoped>\n",
       "    .dataframe tbody tr th:only-of-type {\n",
       "        vertical-align: middle;\n",
       "    }\n",
       "\n",
       "    .dataframe tbody tr th {\n",
       "        vertical-align: top;\n",
       "    }\n",
       "\n",
       "    .dataframe thead th {\n",
       "        text-align: right;\n",
       "    }\n",
       "</style>\n",
       "<table border=\"1\" class=\"dataframe\">\n",
       "  <thead>\n",
       "    <tr style=\"text-align: right;\">\n",
       "      <th></th>\n",
       "      <th>0</th>\n",
       "      <th>1</th>\n",
       "      <th>2</th>\n",
       "      <th>3</th>\n",
       "    </tr>\n",
       "  </thead>\n",
       "  <tbody>\n",
       "    <tr>\n",
       "      <th>id</th>\n",
       "      <td>ACCESORIES_1_001_NYC_1</td>\n",
       "      <td>ACCESORIES_1_002_NYC_1</td>\n",
       "      <td>ACCESORIES_1_003_NYC_1</td>\n",
       "      <td>ACCESORIES_1_004_NYC_1</td>\n",
       "    </tr>\n",
       "    <tr>\n",
       "      <th>item</th>\n",
       "      <td>ACCESORIES_1_001</td>\n",
       "      <td>ACCESORIES_1_002</td>\n",
       "      <td>ACCESORIES_1_003</td>\n",
       "      <td>ACCESORIES_1_004</td>\n",
       "    </tr>\n",
       "    <tr>\n",
       "      <th>category</th>\n",
       "      <td>ACCESORIES</td>\n",
       "      <td>ACCESORIES</td>\n",
       "      <td>ACCESORIES</td>\n",
       "      <td>ACCESORIES</td>\n",
       "    </tr>\n",
       "    <tr>\n",
       "      <th>department</th>\n",
       "      <td>ACCESORIES_1</td>\n",
       "      <td>ACCESORIES_1</td>\n",
       "      <td>ACCESORIES_1</td>\n",
       "      <td>ACCESORIES_1</td>\n",
       "    </tr>\n",
       "    <tr>\n",
       "      <th>store</th>\n",
       "      <td>Greenwich_Village</td>\n",
       "      <td>Greenwich_Village</td>\n",
       "      <td>Greenwich_Village</td>\n",
       "      <td>Greenwich_Village</td>\n",
       "    </tr>\n",
       "    <tr>\n",
       "      <th>store_code</th>\n",
       "      <td>NYC_1</td>\n",
       "      <td>NYC_1</td>\n",
       "      <td>NYC_1</td>\n",
       "      <td>NYC_1</td>\n",
       "    </tr>\n",
       "    <tr>\n",
       "      <th>region</th>\n",
       "      <td>New York</td>\n",
       "      <td>New York</td>\n",
       "      <td>New York</td>\n",
       "      <td>New York</td>\n",
       "    </tr>\n",
       "    <tr>\n",
       "      <th>d</th>\n",
       "      <td>d_1</td>\n",
       "      <td>d_1</td>\n",
       "      <td>d_1</td>\n",
       "      <td>d_1</td>\n",
       "    </tr>\n",
       "    <tr>\n",
       "      <th>sales</th>\n",
       "      <td>0</td>\n",
       "      <td>0</td>\n",
       "      <td>0</td>\n",
       "      <td>0</td>\n",
       "    </tr>\n",
       "  </tbody>\n",
       "</table>\n",
       "</div>"
      ],
      "text/plain": [
       "                                 0                       1  \\\n",
       "id          ACCESORIES_1_001_NYC_1  ACCESORIES_1_002_NYC_1   \n",
       "item              ACCESORIES_1_001        ACCESORIES_1_002   \n",
       "category                ACCESORIES              ACCESORIES   \n",
       "department            ACCESORIES_1            ACCESORIES_1   \n",
       "store            Greenwich_Village       Greenwich_Village   \n",
       "store_code                   NYC_1                   NYC_1   \n",
       "region                    New York                New York   \n",
       "d                              d_1                     d_1   \n",
       "sales                            0                       0   \n",
       "\n",
       "                                 2                       3  \n",
       "id          ACCESORIES_1_003_NYC_1  ACCESORIES_1_004_NYC_1  \n",
       "item              ACCESORIES_1_003        ACCESORIES_1_004  \n",
       "category                ACCESORIES              ACCESORIES  \n",
       "department            ACCESORIES_1            ACCESORIES_1  \n",
       "store            Greenwich_Village       Greenwich_Village  \n",
       "store_code                   NYC_1                   NYC_1  \n",
       "region                    New York                New York  \n",
       "d                              d_1                     d_1  \n",
       "sales                            0                       0  "
      ]
     },
     "execution_count": 21,
     "metadata": {},
     "output_type": "execute_result"
    }
   ],
   "source": [
    "df_sales_melted.head(4).T"
   ]
  },
  {
   "cell_type": "code",
   "execution_count": 22,
   "id": "2fff3f4a",
   "metadata": {
    "colab": {
     "base_uri": "https://localhost:8080/"
    },
    "executionInfo": {
     "elapsed": 1290,
     "status": "ok",
     "timestamp": 1678618996664,
     "user": {
      "displayName": "Sol Etcheverry",
      "userId": "02127738587789653386"
     },
     "user_tz": -60
    },
    "id": "2fff3f4a",
    "outputId": "32299401-d426-4eb7-edd7-1d560de49877",
    "tags": []
   },
   "outputs": [
    {
     "data": {
      "text/plain": [
       "count    58327370.00000\n",
       "mean            1.12632\n",
       "std             3.87311\n",
       "min             0.00000\n",
       "25%             0.00000\n",
       "50%             0.00000\n",
       "75%             1.00000\n",
       "max           763.00000\n",
       "dtype: object"
      ]
     },
     "execution_count": 22,
     "metadata": {},
     "output_type": "execute_result"
    }
   ],
   "source": [
    "# Sin anotación científica\n",
    "df_sales_melted['sales'].describe().to_frame().apply(lambda x: '%.5f' % x, axis=1)"
   ]
  },
  {
   "cell_type": "markdown",
   "id": "f0cf85dd",
   "metadata": {
    "id": "f0cf85dd"
   },
   "source": [
    "### Trabajamos en el inner join de Calendario y  Ventas"
   ]
  },
  {
   "cell_type": "code",
   "execution_count": 23,
   "id": "2ff04e8e",
   "metadata": {
    "colab": {
     "base_uri": "https://localhost:8080/",
     "height": 112
    },
    "executionInfo": {
     "elapsed": 461,
     "status": "ok",
     "timestamp": 1678619001400,
     "user": {
      "displayName": "Sol Etcheverry",
      "userId": "02127738587789653386"
     },
     "user_tz": -60
    },
    "id": "2ff04e8e",
    "outputId": "fd2a2c51-39bf-45a6-fc58-e79be1116518",
    "tags": []
   },
   "outputs": [
    {
     "data": {
      "text/html": [
       "<div>\n",
       "<style scoped>\n",
       "    .dataframe tbody tr th:only-of-type {\n",
       "        vertical-align: middle;\n",
       "    }\n",
       "\n",
       "    .dataframe tbody tr th {\n",
       "        vertical-align: top;\n",
       "    }\n",
       "\n",
       "    .dataframe thead th {\n",
       "        text-align: right;\n",
       "    }\n",
       "</style>\n",
       "<table border=\"1\" class=\"dataframe\">\n",
       "  <thead>\n",
       "    <tr style=\"text-align: right;\">\n",
       "      <th></th>\n",
       "      <th>date</th>\n",
       "      <th>mes</th>\n",
       "      <th>weekday</th>\n",
       "      <th>weekday_int</th>\n",
       "      <th>d</th>\n",
       "      <th>event</th>\n",
       "      <th>festivos_eeuu</th>\n",
       "      <th>year_false</th>\n",
       "      <th>week_false</th>\n",
       "      <th>yearweek</th>\n",
       "    </tr>\n",
       "  </thead>\n",
       "  <tbody>\n",
       "    <tr>\n",
       "      <th>0</th>\n",
       "      <td>2011-01-29</td>\n",
       "      <td>1</td>\n",
       "      <td>Saturday</td>\n",
       "      <td>1</td>\n",
       "      <td>d_1</td>\n",
       "      <td>No event</td>\n",
       "      <td>No event</td>\n",
       "      <td>2011</td>\n",
       "      <td>5</td>\n",
       "      <td>201105</td>\n",
       "    </tr>\n",
       "    <tr>\n",
       "      <th>1</th>\n",
       "      <td>2011-01-30</td>\n",
       "      <td>1</td>\n",
       "      <td>Sunday</td>\n",
       "      <td>2</td>\n",
       "      <td>d_2</td>\n",
       "      <td>No event</td>\n",
       "      <td>No event</td>\n",
       "      <td>2011</td>\n",
       "      <td>5</td>\n",
       "      <td>201105</td>\n",
       "    </tr>\n",
       "  </tbody>\n",
       "</table>\n",
       "</div>"
      ],
      "text/plain": [
       "        date  mes   weekday  weekday_int    d     event festivos_eeuu  \\\n",
       "0 2011-01-29    1  Saturday            1  d_1  No event      No event   \n",
       "1 2011-01-30    1    Sunday            2  d_2  No event      No event   \n",
       "\n",
       "   year_false  week_false yearweek  \n",
       "0        2011           5   201105  \n",
       "1        2011           5   201105  "
      ]
     },
     "execution_count": 23,
     "metadata": {},
     "output_type": "execute_result"
    }
   ],
   "source": [
    "df_calendar.head(2)"
   ]
  },
  {
   "cell_type": "code",
   "execution_count": 24,
   "id": "61c02547",
   "metadata": {
    "colab": {
     "base_uri": "https://localhost:8080/"
    },
    "executionInfo": {
     "elapsed": 5,
     "status": "ok",
     "timestamp": 1678619003647,
     "user": {
      "displayName": "Sol Etcheverry",
      "userId": "02127738587789653386"
     },
     "user_tz": -60
    },
    "id": "61c02547",
    "outputId": "df7de88a-b5d5-475d-a5a3-2a50f6c74e8a",
    "tags": []
   },
   "outputs": [
    {
     "name": "stdout",
     "output_type": "stream",
     "text": [
      "<class 'pandas.core.frame.DataFrame'>\n",
      "RangeIndex: 1913 entries, 0 to 1912\n",
      "Data columns (total 10 columns):\n",
      " #   Column         Non-Null Count  Dtype         \n",
      "---  ------         --------------  -----         \n",
      " 0   date           1913 non-null   datetime64[ns]\n",
      " 1   mes            1913 non-null   int64         \n",
      " 2   weekday        1913 non-null   object        \n",
      " 3   weekday_int    1913 non-null   int64         \n",
      " 4   d              1913 non-null   object        \n",
      " 5   event          1913 non-null   object        \n",
      " 6   festivos_eeuu  1913 non-null   object        \n",
      " 7   year_false     1913 non-null   int64         \n",
      " 8   week_false     1913 non-null   int64         \n",
      " 9   yearweek       1913 non-null   object        \n",
      "dtypes: datetime64[ns](1), int64(4), object(5)\n",
      "memory usage: 149.6+ KB\n"
     ]
    }
   ],
   "source": [
    "df_calendar.info()"
   ]
  },
  {
   "cell_type": "code",
   "execution_count": 25,
   "id": "dba50034",
   "metadata": {
    "id": "dba50034",
    "tags": []
   },
   "outputs": [],
   "source": [
    "cambioFormato(df_calendar, ['weekday','d','event'], 'category')"
   ]
  },
  {
   "cell_type": "code",
   "execution_count": 26,
   "id": "e4d11084-9f9f-4d98-87f7-446fbfd4d996",
   "metadata": {
    "tags": []
   },
   "outputs": [
    {
     "name": "stdout",
     "output_type": "stream",
     "text": [
      "df_calendar 201617\n"
     ]
    }
   ],
   "source": [
    "# Comprobamos que las dataframes que vamos a unir tengan la misma\n",
    "# última semana\n",
    "print(\"df_calendar\", df_calendar['yearweek'].max());"
   ]
  },
  {
   "cell_type": "code",
   "execution_count": 27,
   "id": "235bb332-5f9f-4e29-acb0-83d06ae7404d",
   "metadata": {
    "tags": []
   },
   "outputs": [],
   "source": [
    "df_calendar = df_calendar[df_calendar['yearweek'] != 201617]"
   ]
  },
  {
   "cell_type": "code",
   "execution_count": 28,
   "id": "a2fb4ab0-69c4-400f-a0ae-e551dc940750",
   "metadata": {
    "tags": []
   },
   "outputs": [
    {
     "name": "stdout",
     "output_type": "stream",
     "text": [
      "df_calendar 201616\n"
     ]
    }
   ],
   "source": [
    "print(\"df_calendar\", df_calendar['yearweek'].max());"
   ]
  },
  {
   "cell_type": "code",
   "execution_count": 29,
   "id": "5fb4e6ac",
   "metadata": {
    "colab": {
     "base_uri": "https://localhost:8080/"
    },
    "executionInfo": {
     "elapsed": 19392,
     "status": "ok",
     "timestamp": 1678619025608,
     "user": {
      "displayName": "Sol Etcheverry",
      "userId": "02127738587789653386"
     },
     "user_tz": -60
    },
    "id": "5fb4e6ac",
    "outputId": "14dc3a9a-91bc-411e-af42-e0f17beac00c",
    "tags": []
   },
   "outputs": [
    {
     "name": "stdout",
     "output_type": "stream",
     "text": [
      "CPU times: user 12.9 s, sys: 4.26 s, total: 17.1 s\n",
      "Wall time: 18.3 s\n"
     ]
    }
   ],
   "source": [
    "%%time\n",
    "# Merge con sales con ventas > 0\n",
    "df_merged_inner = pd.merge(left=df_sales_melted,right=df_calendar, left_on='d', right_on='d')"
   ]
  },
  {
   "cell_type": "code",
   "execution_count": 30,
   "id": "61ce0b97",
   "metadata": {
    "id": "61ce0b97",
    "tags": []
   },
   "outputs": [],
   "source": [
    "df_merged_inner.drop('d',axis=1,inplace=True)"
   ]
  },
  {
   "cell_type": "code",
   "execution_count": 31,
   "id": "6f660380-6121-4fd0-ad2b-997f87f307f1",
   "metadata": {
    "tags": []
   },
   "outputs": [
    {
     "data": {
      "text/plain": [
       "201616"
      ]
     },
     "execution_count": 31,
     "metadata": {},
     "output_type": "execute_result"
    }
   ],
   "source": [
    "df_merged_inner['yearweek'].max()"
   ]
  },
  {
   "cell_type": "code",
   "execution_count": 32,
   "id": "77054d2a",
   "metadata": {
    "id": "77054d2a",
    "tags": []
   },
   "outputs": [],
   "source": [
    "df_merged_inner['total_transacciones']=df_merged_inner['sales']"
   ]
  },
  {
   "cell_type": "code",
   "execution_count": 33,
   "id": "6e7f272d",
   "metadata": {
    "colab": {
     "base_uri": "https://localhost:8080/",
     "height": 357
    },
    "executionInfo": {
     "elapsed": 4842,
     "status": "ok",
     "timestamp": 1678619044267,
     "user": {
      "displayName": "Sol Etcheverry",
      "userId": "02127738587789653386"
     },
     "user_tz": -60
    },
    "id": "6e7f272d",
    "outputId": "fcbe9650-8735-43d4-c2a0-a92a1ccfbb73",
    "tags": []
   },
   "outputs": [
    {
     "data": {
      "text/html": [
       "<div>\n",
       "<style scoped>\n",
       "    .dataframe tbody tr th:only-of-type {\n",
       "        vertical-align: middle;\n",
       "    }\n",
       "\n",
       "    .dataframe tbody tr th {\n",
       "        vertical-align: top;\n",
       "    }\n",
       "\n",
       "    .dataframe thead th {\n",
       "        text-align: right;\n",
       "    }\n",
       "</style>\n",
       "<table border=\"1\" class=\"dataframe\">\n",
       "  <thead>\n",
       "    <tr style=\"text-align: right;\">\n",
       "      <th></th>\n",
       "      <th>id</th>\n",
       "      <th>item</th>\n",
       "      <th>category</th>\n",
       "      <th>department</th>\n",
       "      <th>store</th>\n",
       "      <th>store_code</th>\n",
       "      <th>region</th>\n",
       "      <th>sales</th>\n",
       "      <th>date</th>\n",
       "      <th>mes</th>\n",
       "      <th>weekday</th>\n",
       "      <th>weekday_int</th>\n",
       "      <th>event</th>\n",
       "      <th>festivos_eeuu</th>\n",
       "      <th>year_false</th>\n",
       "      <th>week_false</th>\n",
       "      <th>yearweek</th>\n",
       "      <th>total_transacciones</th>\n",
       "    </tr>\n",
       "  </thead>\n",
       "  <tbody>\n",
       "    <tr>\n",
       "      <th>31877069</th>\n",
       "      <td>SUPERMARKET_3_599_BOS_1</td>\n",
       "      <td>SUPERMARKET_3_599</td>\n",
       "      <td>SUPERMARKET</td>\n",
       "      <td>SUPERMARKET_3</td>\n",
       "      <td>South_End</td>\n",
       "      <td>BOS_1</td>\n",
       "      <td>Boston</td>\n",
       "      <td>0</td>\n",
       "      <td>2013-12-09</td>\n",
       "      <td>12</td>\n",
       "      <td>Monday</td>\n",
       "      <td>3</td>\n",
       "      <td>No event</td>\n",
       "      <td>No event</td>\n",
       "      <td>2013</td>\n",
       "      <td>49</td>\n",
       "      <td>201349</td>\n",
       "      <td>0</td>\n",
       "    </tr>\n",
       "    <tr>\n",
       "      <th>13182311</th>\n",
       "      <td>HOME_&amp;_GARDEN_2_389_NYC_4</td>\n",
       "      <td>HOME_&amp;_GARDEN_2_389</td>\n",
       "      <td>HOME_&amp;_GARDEN</td>\n",
       "      <td>HOME_&amp;_GARDEN_2</td>\n",
       "      <td>Brooklyn</td>\n",
       "      <td>NYC_4</td>\n",
       "      <td>New York</td>\n",
       "      <td>0</td>\n",
       "      <td>2012-04-05</td>\n",
       "      <td>4</td>\n",
       "      <td>Thursday</td>\n",
       "      <td>6</td>\n",
       "      <td>No event</td>\n",
       "      <td>No event</td>\n",
       "      <td>2012</td>\n",
       "      <td>14</td>\n",
       "      <td>201214</td>\n",
       "      <td>0</td>\n",
       "    </tr>\n",
       "    <tr>\n",
       "      <th>9512692</th>\n",
       "      <td>SUPERMARKET_3_637_PHI_3</td>\n",
       "      <td>SUPERMARKET_3_637</td>\n",
       "      <td>SUPERMARKET</td>\n",
       "      <td>SUPERMARKET_3</td>\n",
       "      <td>Queen_Village</td>\n",
       "      <td>PHI_3</td>\n",
       "      <td>Philadelphia</td>\n",
       "      <td>0</td>\n",
       "      <td>2011-12-06</td>\n",
       "      <td>12</td>\n",
       "      <td>Tuesday</td>\n",
       "      <td>4</td>\n",
       "      <td>No event</td>\n",
       "      <td>No event</td>\n",
       "      <td>2011</td>\n",
       "      <td>49</td>\n",
       "      <td>201149</td>\n",
       "      <td>0</td>\n",
       "    </tr>\n",
       "    <tr>\n",
       "      <th>34917692</th>\n",
       "      <td>ACCESORIES_2_129_NYC_3</td>\n",
       "      <td>ACCESORIES_2_129</td>\n",
       "      <td>ACCESORIES</td>\n",
       "      <td>ACCESORIES_2</td>\n",
       "      <td>Tribeca</td>\n",
       "      <td>NYC_3</td>\n",
       "      <td>New York</td>\n",
       "      <td>1</td>\n",
       "      <td>2014-03-19</td>\n",
       "      <td>3</td>\n",
       "      <td>Wednesday</td>\n",
       "      <td>5</td>\n",
       "      <td>No event</td>\n",
       "      <td>No event</td>\n",
       "      <td>2014</td>\n",
       "      <td>11</td>\n",
       "      <td>201411</td>\n",
       "      <td>1</td>\n",
       "    </tr>\n",
       "    <tr>\n",
       "      <th>51397992</th>\n",
       "      <td>HOME_&amp;_GARDEN_1_444_PHI_1</td>\n",
       "      <td>HOME_&amp;_GARDEN_1_444</td>\n",
       "      <td>HOME_&amp;_GARDEN</td>\n",
       "      <td>HOME_&amp;_GARDEN_1</td>\n",
       "      <td>Midtown_Village</td>\n",
       "      <td>PHI_1</td>\n",
       "      <td>Philadelphia</td>\n",
       "      <td>0</td>\n",
       "      <td>2015-09-10</td>\n",
       "      <td>9</td>\n",
       "      <td>Thursday</td>\n",
       "      <td>6</td>\n",
       "      <td>No event</td>\n",
       "      <td>No event</td>\n",
       "      <td>2015</td>\n",
       "      <td>36</td>\n",
       "      <td>201536</td>\n",
       "      <td>0</td>\n",
       "    </tr>\n",
       "  </tbody>\n",
       "</table>\n",
       "</div>"
      ],
      "text/plain": [
       "                                 id                 item       category  \\\n",
       "31877069    SUPERMARKET_3_599_BOS_1    SUPERMARKET_3_599    SUPERMARKET   \n",
       "13182311  HOME_&_GARDEN_2_389_NYC_4  HOME_&_GARDEN_2_389  HOME_&_GARDEN   \n",
       "9512692     SUPERMARKET_3_637_PHI_3    SUPERMARKET_3_637    SUPERMARKET   \n",
       "34917692     ACCESORIES_2_129_NYC_3     ACCESORIES_2_129     ACCESORIES   \n",
       "51397992  HOME_&_GARDEN_1_444_PHI_1  HOME_&_GARDEN_1_444  HOME_&_GARDEN   \n",
       "\n",
       "               department            store store_code        region  sales  \\\n",
       "31877069    SUPERMARKET_3        South_End      BOS_1        Boston      0   \n",
       "13182311  HOME_&_GARDEN_2         Brooklyn      NYC_4      New York      0   \n",
       "9512692     SUPERMARKET_3    Queen_Village      PHI_3  Philadelphia      0   \n",
       "34917692     ACCESORIES_2          Tribeca      NYC_3      New York      1   \n",
       "51397992  HOME_&_GARDEN_1  Midtown_Village      PHI_1  Philadelphia      0   \n",
       "\n",
       "               date  mes    weekday  weekday_int     event festivos_eeuu  \\\n",
       "31877069 2013-12-09   12     Monday            3  No event      No event   \n",
       "13182311 2012-04-05    4   Thursday            6  No event      No event   \n",
       "9512692  2011-12-06   12    Tuesday            4  No event      No event   \n",
       "34917692 2014-03-19    3  Wednesday            5  No event      No event   \n",
       "51397992 2015-09-10    9   Thursday            6  No event      No event   \n",
       "\n",
       "          year_false  week_false yearweek  total_transacciones  \n",
       "31877069        2013          49   201349                    0  \n",
       "13182311        2012          14   201214                    0  \n",
       "9512692         2011          49   201149                    0  \n",
       "34917692        2014          11   201411                    1  \n",
       "51397992        2015          36   201536                    0  "
      ]
     },
     "execution_count": 33,
     "metadata": {},
     "output_type": "execute_result"
    }
   ],
   "source": [
    "df_merged_inner.sample(5)"
   ]
  },
  {
   "cell_type": "code",
   "execution_count": 34,
   "id": "43edac73",
   "metadata": {
    "colab": {
     "base_uri": "https://localhost:8080/"
    },
    "executionInfo": {
     "elapsed": 3407,
     "status": "ok",
     "timestamp": 1678619054358,
     "user": {
      "displayName": "Sol Etcheverry",
      "userId": "02127738587789653386"
     },
     "user_tz": -60
    },
    "id": "43edac73",
    "outputId": "7c203b7d-55db-4657-aa0f-902697337a54",
    "tags": []
   },
   "outputs": [
    {
     "data": {
      "text/plain": [
       "30490"
      ]
     },
     "execution_count": 34,
     "metadata": {},
     "output_type": "execute_result"
    }
   ],
   "source": [
    "df_merged_inner['id'].nunique()"
   ]
  },
  {
   "cell_type": "code",
   "execution_count": 35,
   "id": "fae5b823",
   "metadata": {
    "colab": {
     "base_uri": "https://localhost:8080/"
    },
    "executionInfo": {
     "elapsed": 2518,
     "status": "ok",
     "timestamp": 1678619062746,
     "user": {
      "displayName": "Sol Etcheverry",
      "userId": "02127738587789653386"
     },
     "user_tz": -60
    },
    "id": "fae5b823",
    "outputId": "3bc1b9c8-0f14-408b-921f-ec692508a5e7",
    "tags": []
   },
   "outputs": [
    {
     "data": {
      "text/plain": [
       "yearweek\n",
       "201105    213430\n",
       "201106    213430\n",
       "201107    213430\n",
       "201108    213430\n",
       "201109    213430\n",
       "           ...  \n",
       "201612    213430\n",
       "201613    213430\n",
       "201614    213430\n",
       "201615    213430\n",
       "201616    213430\n",
       "Name: id, Length: 273, dtype: int64"
      ]
     },
     "execution_count": 35,
     "metadata": {},
     "output_type": "execute_result"
    }
   ],
   "source": [
    "df_merged_inner.groupby('yearweek')['id'].size() #213430 = 30490 id * 7 dias de cada semana"
   ]
  },
  {
   "cell_type": "code",
   "execution_count": 36,
   "id": "13367d6c-fc84-46e8-9daf-124c347a8524",
   "metadata": {
    "tags": []
   },
   "outputs": [
    {
     "data": {
      "text/plain": [
       "yearweek\n",
       "201613    213430\n",
       "201614    213430\n",
       "201615    213430\n",
       "201616    213430\n",
       "Name: id, dtype: int64"
      ]
     },
     "execution_count": 36,
     "metadata": {},
     "output_type": "execute_result"
    }
   ],
   "source": [
    "df_merged_inner.groupby('yearweek')['id'].size().tail(4)\n",
    "# Se decide borrar la última semana ya que se puede comprobar\n",
    "# que tenemos falta de información a la hora de hacer el resample()\n",
    "# ya que no estarían todos los id de productos para completarlo. \n",
    "# 201617     60980"
   ]
  },
  {
   "cell_type": "code",
   "execution_count": 37,
   "id": "4593ae82-a080-4acf-86a2-026a342fe5cc",
   "metadata": {
    "tags": []
   },
   "outputs": [
    {
     "name": "stdout",
     "output_type": "stream",
     "text": [
      "(58266390, 18)\n",
      "(58266390, 18)\n"
     ]
    }
   ],
   "source": [
    "print(df_merged_inner.shape)\n",
    "df_merged_inner = df_merged_inner[df_merged_inner['yearweek'] != 201617]\n",
    "print(df_merged_inner.shape)"
   ]
  },
  {
   "cell_type": "code",
   "execution_count": 38,
   "id": "26ppXYqPgUh1",
   "metadata": {
    "colab": {
     "base_uri": "https://localhost:8080/"
    },
    "executionInfo": {
     "elapsed": 318,
     "status": "ok",
     "timestamp": 1678619269753,
     "user": {
      "displayName": "Sol Etcheverry",
      "userId": "02127738587789653386"
     },
     "user_tz": -60
    },
    "id": "26ppXYqPgUh1",
    "outputId": "ff6e8b1c-b590-445e-c8de-a9f8136600da",
    "tags": []
   },
   "outputs": [
    {
     "data": {
      "text/plain": [
       "No event                   55217390\n",
       "Pascua                       365880\n",
       "San Valentin                 182940\n",
       "Presidents Day               182940\n",
       "San Patricio                 182940\n",
       "SuperBowl                    182940\n",
       "Halloween                    152450\n",
       "Martin Luther King Jr        152450\n",
       "NewYear                      152450\n",
       "Navidad                      152450\n",
       "Black Friday                 152450\n",
       "Thanksgiving                 152450\n",
       "Ramadan starts               152450\n",
       "Labor day                    152450\n",
       "dia de la independencia      152450\n",
       "dia del padre                152450\n",
       "Memorial day                 152450\n",
       "dia de la madre              152450\n",
       "Easter                        91470\n",
       "amazon prime day              30490\n",
       "Name: festivos_eeuu, dtype: int64"
      ]
     },
     "execution_count": 38,
     "metadata": {},
     "output_type": "execute_result"
    }
   ],
   "source": [
    "df_merged_inner['festivos_eeuu'].value_counts()"
   ]
  },
  {
   "cell_type": "markdown",
   "id": "koqvSoNdg6YK",
   "metadata": {
    "id": "koqvSoNdg6YK"
   },
   "source": [
    "**Vamos a crear una variable de estación del año para poder analizar la variable en el armado de clusters.**"
   ]
  },
  {
   "cell_type": "code",
   "execution_count": 39,
   "id": "jbVzbsdag9oa",
   "metadata": {
    "id": "jbVzbsdag9oa",
    "tags": []
   },
   "outputs": [],
   "source": [
    "df_merged_inner['mes']=df_merged_inner['date'].dt.month"
   ]
  },
  {
   "cell_type": "code",
   "execution_count": 40,
   "id": "b42ceoxChAEx",
   "metadata": {
    "id": "b42ceoxChAEx",
    "tags": []
   },
   "outputs": [],
   "source": [
    "estaciones_mapping={\n",
    "    1: 'invierno', \n",
    "    2: 'invierno', \n",
    "    3: 'invierno', \n",
    "    4: 'primavera', \n",
    "    5: 'primavera',\n",
    "    6: 'primavera', \n",
    "    7: 'verano',\n",
    "    8: 'verano', \n",
    "    9: 'verano', \n",
    "    10: 'otoño',\n",
    "    11: 'otoño', \n",
    "    12: 'otoño'\n",
    "} \n",
    "    "
   ]
  },
  {
   "cell_type": "code",
   "execution_count": 41,
   "id": "aANIHONHhDiQ",
   "metadata": {
    "id": "aANIHONHhDiQ",
    "tags": []
   },
   "outputs": [],
   "source": [
    "df_merged_inner['estacion']=df_merged_inner['mes'].map(estaciones_mapping)"
   ]
  },
  {
   "cell_type": "code",
   "execution_count": 58,
   "id": "XID87RWAhPVp",
   "metadata": {
    "id": "XID87RWAhPVp",
    "tags": []
   },
   "outputs": [],
   "source": [
    "from collections import Counter\n",
    "\n",
    "def get_most_common(srs):\n",
    "    x = list(srs)\n",
    "    my_counter = Counter(x)\n",
    "    return my_counter.most_common(1)[0][0]"
   ]
  },
  {
   "cell_type": "code",
   "execution_count": 60,
   "id": "51d88b6e",
   "metadata": {
    "colab": {
     "base_uri": "https://localhost:8080/"
    },
    "executionInfo": {
     "elapsed": 744328,
     "status": "ok",
     "timestamp": 1678620256820,
     "user": {
      "displayName": "Sol Etcheverry",
      "userId": "02127738587789653386"
     },
     "user_tz": -60
    },
    "id": "51d88b6e",
    "outputId": "89dc8d1b-000e-450e-ab23-051023e58284",
    "tags": []
   },
   "outputs": [
    {
     "name": "stdout",
     "output_type": "stream",
     "text": [
      "CPU times: user 23min 40s, sys: 45.2 s, total: 24min 25s\n",
      "Wall time: 23min 47s\n"
     ]
    }
   ],
   "source": [
    "%%time\n",
    "## Resample\n",
    "df_weekly_agg = df_merged_inner.groupby(['yearweek','id']).agg(\n",
    "    {\n",
    "        \"sales\":np.sum,\n",
    "        \"estacion\":get_most_common,\n",
    "        \"festivos_eeuu\": lambda x: x.value_counts().index[-1]\n",
    "    }\n",
    ").rename(\n",
    "    columns = {\n",
    "        \"sales\":\"weekly_sales\",\n",
    "        \"estacion\":\"estacion\", \n",
    "        \"festivos_eeuu\":\"evento\"\n",
    "    }\n",
    ").reset_index()"
   ]
  },
  {
   "cell_type": "code",
   "execution_count": 61,
   "id": "1e2eeff3",
   "metadata": {
    "colab": {
     "base_uri": "https://localhost:8080/",
     "height": 488
    },
    "executionInfo": {
     "elapsed": 28,
     "status": "ok",
     "timestamp": 1678620584280,
     "user": {
      "displayName": "Sol Etcheverry",
      "userId": "02127738587789653386"
     },
     "user_tz": -60
    },
    "id": "1e2eeff3",
    "outputId": "0e7cbb11-7bb8-4b01-9b60-3ca5c0a09475",
    "tags": []
   },
   "outputs": [
    {
     "data": {
      "text/html": [
       "<div>\n",
       "<style scoped>\n",
       "    .dataframe tbody tr th:only-of-type {\n",
       "        vertical-align: middle;\n",
       "    }\n",
       "\n",
       "    .dataframe tbody tr th {\n",
       "        vertical-align: top;\n",
       "    }\n",
       "\n",
       "    .dataframe thead th {\n",
       "        text-align: right;\n",
       "    }\n",
       "</style>\n",
       "<table border=\"1\" class=\"dataframe\">\n",
       "  <thead>\n",
       "    <tr style=\"text-align: right;\">\n",
       "      <th></th>\n",
       "      <th>yearweek</th>\n",
       "      <th>id</th>\n",
       "      <th>weekly_sales</th>\n",
       "      <th>estacion</th>\n",
       "      <th>evento</th>\n",
       "    </tr>\n",
       "  </thead>\n",
       "  <tbody>\n",
       "    <tr>\n",
       "      <th>3016122</th>\n",
       "      <td>201251</td>\n",
       "      <td>SUPERMARKET_3_586_BOS_3</td>\n",
       "      <td>578</td>\n",
       "      <td>otoño</td>\n",
       "      <td>No event</td>\n",
       "    </tr>\n",
       "    <tr>\n",
       "      <th>5235432</th>\n",
       "      <td>201419</td>\n",
       "      <td>SUPERMARKET_2_338_BOS_3</td>\n",
       "      <td>0</td>\n",
       "      <td>primavera</td>\n",
       "      <td>dia de la madre</td>\n",
       "    </tr>\n",
       "    <tr>\n",
       "      <th>5136524</th>\n",
       "      <td>201416</td>\n",
       "      <td>HOME_&amp;_GARDEN_2_325_NYC_2</td>\n",
       "      <td>1</td>\n",
       "      <td>primavera</td>\n",
       "      <td>Easter</td>\n",
       "    </tr>\n",
       "    <tr>\n",
       "      <th>300126</th>\n",
       "      <td>201114</td>\n",
       "      <td>SUPERMARKET_3_347_NYC_4</td>\n",
       "      <td>4</td>\n",
       "      <td>primavera</td>\n",
       "      <td>No event</td>\n",
       "    </tr>\n",
       "    <tr>\n",
       "      <th>5175628</th>\n",
       "      <td>201417</td>\n",
       "      <td>SUPERMARKET_3_057_PHI_2</td>\n",
       "      <td>0</td>\n",
       "      <td>primavera</td>\n",
       "      <td>No event</td>\n",
       "    </tr>\n",
       "    <tr>\n",
       "      <th>8121941</th>\n",
       "      <td>201610</td>\n",
       "      <td>HOME_&amp;_GARDEN_2_064_BOS_2</td>\n",
       "      <td>0</td>\n",
       "      <td>invierno</td>\n",
       "      <td>No event</td>\n",
       "    </tr>\n",
       "    <tr>\n",
       "      <th>2401692</th>\n",
       "      <td>201231</td>\n",
       "      <td>SUPERMARKET_3_123_BOS_3</td>\n",
       "      <td>4</td>\n",
       "      <td>verano</td>\n",
       "      <td>No event</td>\n",
       "    </tr>\n",
       "    <tr>\n",
       "      <th>1544277</th>\n",
       "      <td>201203</td>\n",
       "      <td>SUPERMARKET_2_151_PHI_1</td>\n",
       "      <td>0</td>\n",
       "      <td>invierno</td>\n",
       "      <td>Martin Luther King Jr</td>\n",
       "    </tr>\n",
       "    <tr>\n",
       "      <th>3293696</th>\n",
       "      <td>201308</td>\n",
       "      <td>ACCESORIES_1_080_NYC_4</td>\n",
       "      <td>43</td>\n",
       "      <td>invierno</td>\n",
       "      <td>No event</td>\n",
       "    </tr>\n",
       "    <tr>\n",
       "      <th>1972844</th>\n",
       "      <td>201217</td>\n",
       "      <td>SUPERMARKET_2_322_NYC_2</td>\n",
       "      <td>0</td>\n",
       "      <td>primavera</td>\n",
       "      <td>No event</td>\n",
       "    </tr>\n",
       "    <tr>\n",
       "      <th>1990716</th>\n",
       "      <td>201218</td>\n",
       "      <td>HOME_&amp;_GARDEN_1_328_NYC_4</td>\n",
       "      <td>0</td>\n",
       "      <td>primavera</td>\n",
       "      <td>No event</td>\n",
       "    </tr>\n",
       "    <tr>\n",
       "      <th>4777986</th>\n",
       "      <td>201404</td>\n",
       "      <td>SUPERMARKET_2_328_NYC_4</td>\n",
       "      <td>0</td>\n",
       "      <td>invierno</td>\n",
       "      <td>No event</td>\n",
       "    </tr>\n",
       "    <tr>\n",
       "      <th>4891405</th>\n",
       "      <td>201408</td>\n",
       "      <td>HOME_&amp;_GARDEN_2_205_NYC_3</td>\n",
       "      <td>4</td>\n",
       "      <td>invierno</td>\n",
       "      <td>No event</td>\n",
       "    </tr>\n",
       "    <tr>\n",
       "      <th>5076718</th>\n",
       "      <td>201414</td>\n",
       "      <td>HOME_&amp;_GARDEN_2_442_PHI_2</td>\n",
       "      <td>3</td>\n",
       "      <td>primavera</td>\n",
       "      <td>Pascua</td>\n",
       "    </tr>\n",
       "    <tr>\n",
       "      <th>3395167</th>\n",
       "      <td>201311</td>\n",
       "      <td>HOME_&amp;_GARDEN_1_522_PHI_1</td>\n",
       "      <td>9</td>\n",
       "      <td>invierno</td>\n",
       "      <td>San Patricio</td>\n",
       "    </tr>\n",
       "    <tr>\n",
       "      <th>1296874</th>\n",
       "      <td>201147</td>\n",
       "      <td>SUPERMARKET_1_019_NYC_2</td>\n",
       "      <td>60</td>\n",
       "      <td>otoño</td>\n",
       "      <td>Black Friday</td>\n",
       "    </tr>\n",
       "    <tr>\n",
       "      <th>6677950</th>\n",
       "      <td>201515</td>\n",
       "      <td>ACCESORIES_1_066_BOS_1</td>\n",
       "      <td>1</td>\n",
       "      <td>primavera</td>\n",
       "      <td>No event</td>\n",
       "    </tr>\n",
       "    <tr>\n",
       "      <th>6561337</th>\n",
       "      <td>201511</td>\n",
       "      <td>HOME_&amp;_GARDEN_1_035_PHI_1</td>\n",
       "      <td>0</td>\n",
       "      <td>invierno</td>\n",
       "      <td>San Patricio</td>\n",
       "    </tr>\n",
       "    <tr>\n",
       "      <th>5477329</th>\n",
       "      <td>201427</td>\n",
       "      <td>SUPERMARKET_2_135_PHI_3</td>\n",
       "      <td>21</td>\n",
       "      <td>verano</td>\n",
       "      <td>No event</td>\n",
       "    </tr>\n",
       "    <tr>\n",
       "      <th>6051968</th>\n",
       "      <td>201446</td>\n",
       "      <td>HOME_&amp;_GARDEN_2_399_PHI_2</td>\n",
       "      <td>2</td>\n",
       "      <td>otoño</td>\n",
       "      <td>No event</td>\n",
       "    </tr>\n",
       "    <tr>\n",
       "      <th>5400206</th>\n",
       "      <td>201425</td>\n",
       "      <td>ACCESORIES_1_356_NYC_4</td>\n",
       "      <td>6</td>\n",
       "      <td>primavera</td>\n",
       "      <td>No event</td>\n",
       "    </tr>\n",
       "    <tr>\n",
       "      <th>3444652</th>\n",
       "      <td>201312</td>\n",
       "      <td>SUPERMARKET_3_756_BOS_3</td>\n",
       "      <td>37</td>\n",
       "      <td>invierno</td>\n",
       "      <td>No event</td>\n",
       "    </tr>\n",
       "    <tr>\n",
       "      <th>1128380</th>\n",
       "      <td>201142</td>\n",
       "      <td>ACCESORIES_1_026_BOS_1</td>\n",
       "      <td>0</td>\n",
       "      <td>otoño</td>\n",
       "      <td>No event</td>\n",
       "    </tr>\n",
       "    <tr>\n",
       "      <th>1911943</th>\n",
       "      <td>201215</td>\n",
       "      <td>SUPERMARKET_2_330_NYC_1</td>\n",
       "      <td>8</td>\n",
       "      <td>primavera</td>\n",
       "      <td>Pascua</td>\n",
       "    </tr>\n",
       "    <tr>\n",
       "      <th>6583720</th>\n",
       "      <td>201511</td>\n",
       "      <td>SUPERMARKET_3_613_BOS_1</td>\n",
       "      <td>1</td>\n",
       "      <td>invierno</td>\n",
       "      <td>San Patricio</td>\n",
       "    </tr>\n",
       "  </tbody>\n",
       "</table>\n",
       "</div>"
      ],
      "text/plain": [
       "         yearweek                         id  weekly_sales   estacion  \\\n",
       "3016122    201251    SUPERMARKET_3_586_BOS_3           578      otoño   \n",
       "5235432    201419    SUPERMARKET_2_338_BOS_3             0  primavera   \n",
       "5136524    201416  HOME_&_GARDEN_2_325_NYC_2             1  primavera   \n",
       "300126     201114    SUPERMARKET_3_347_NYC_4             4  primavera   \n",
       "5175628    201417    SUPERMARKET_3_057_PHI_2             0  primavera   \n",
       "8121941    201610  HOME_&_GARDEN_2_064_BOS_2             0   invierno   \n",
       "2401692    201231    SUPERMARKET_3_123_BOS_3             4     verano   \n",
       "1544277    201203    SUPERMARKET_2_151_PHI_1             0   invierno   \n",
       "3293696    201308     ACCESORIES_1_080_NYC_4            43   invierno   \n",
       "1972844    201217    SUPERMARKET_2_322_NYC_2             0  primavera   \n",
       "1990716    201218  HOME_&_GARDEN_1_328_NYC_4             0  primavera   \n",
       "4777986    201404    SUPERMARKET_2_328_NYC_4             0   invierno   \n",
       "4891405    201408  HOME_&_GARDEN_2_205_NYC_3             4   invierno   \n",
       "5076718    201414  HOME_&_GARDEN_2_442_PHI_2             3  primavera   \n",
       "3395167    201311  HOME_&_GARDEN_1_522_PHI_1             9   invierno   \n",
       "1296874    201147    SUPERMARKET_1_019_NYC_2            60      otoño   \n",
       "6677950    201515     ACCESORIES_1_066_BOS_1             1  primavera   \n",
       "6561337    201511  HOME_&_GARDEN_1_035_PHI_1             0   invierno   \n",
       "5477329    201427    SUPERMARKET_2_135_PHI_3            21     verano   \n",
       "6051968    201446  HOME_&_GARDEN_2_399_PHI_2             2      otoño   \n",
       "5400206    201425     ACCESORIES_1_356_NYC_4             6  primavera   \n",
       "3444652    201312    SUPERMARKET_3_756_BOS_3            37   invierno   \n",
       "1128380    201142     ACCESORIES_1_026_BOS_1             0      otoño   \n",
       "1911943    201215    SUPERMARKET_2_330_NYC_1             8  primavera   \n",
       "6583720    201511    SUPERMARKET_3_613_BOS_1             1   invierno   \n",
       "\n",
       "                        evento  \n",
       "3016122               No event  \n",
       "5235432        dia de la madre  \n",
       "5136524                 Easter  \n",
       "300126                No event  \n",
       "5175628               No event  \n",
       "8121941               No event  \n",
       "2401692               No event  \n",
       "1544277  Martin Luther King Jr  \n",
       "3293696               No event  \n",
       "1972844               No event  \n",
       "1990716               No event  \n",
       "4777986               No event  \n",
       "4891405               No event  \n",
       "5076718                 Pascua  \n",
       "3395167           San Patricio  \n",
       "1296874           Black Friday  \n",
       "6677950               No event  \n",
       "6561337           San Patricio  \n",
       "5477329               No event  \n",
       "6051968               No event  \n",
       "5400206               No event  \n",
       "3444652               No event  \n",
       "1128380               No event  \n",
       "1911943                 Pascua  \n",
       "6583720           San Patricio  "
      ]
     },
     "execution_count": 61,
     "metadata": {},
     "output_type": "execute_result"
    }
   ],
   "source": [
    "df_weekly_agg.sample(25)"
   ]
  },
  {
   "cell_type": "code",
   "execution_count": 62,
   "id": "d3MHQH28lc4p",
   "metadata": {
    "id": "d3MHQH28lc4p",
    "tags": []
   },
   "outputs": [],
   "source": [
    "Q_datos_por_estacion=df_weekly_agg['estacion'].value_counts().to_frame()"
   ]
  },
  {
   "cell_type": "code",
   "execution_count": 63,
   "id": "XJ3k67YwlfKK",
   "metadata": {
    "colab": {
     "base_uri": "https://localhost:8080/",
     "height": 175
    },
    "executionInfo": {
     "elapsed": 352,
     "status": "ok",
     "timestamp": 1678620624577,
     "user": {
      "displayName": "Sol Etcheverry",
      "userId": "02127738587789653386"
     },
     "user_tz": -60
    },
    "id": "XJ3k67YwlfKK",
    "outputId": "344e5d53-de18-42db-d1d6-786532564673",
    "tags": []
   },
   "outputs": [
    {
     "data": {
      "text/html": [
       "<div>\n",
       "<style scoped>\n",
       "    .dataframe tbody tr th:only-of-type {\n",
       "        vertical-align: middle;\n",
       "    }\n",
       "\n",
       "    .dataframe tbody tr th {\n",
       "        vertical-align: top;\n",
       "    }\n",
       "\n",
       "    .dataframe thead th {\n",
       "        text-align: right;\n",
       "    }\n",
       "</style>\n",
       "<table border=\"1\" class=\"dataframe\">\n",
       "  <thead>\n",
       "    <tr style=\"text-align: right;\">\n",
       "      <th></th>\n",
       "      <th>estacion</th>\n",
       "    </tr>\n",
       "  </thead>\n",
       "  <tbody>\n",
       "    <tr>\n",
       "      <th>invierno</th>\n",
       "      <td>2225770</td>\n",
       "    </tr>\n",
       "    <tr>\n",
       "      <th>primavera</th>\n",
       "      <td>2073320</td>\n",
       "    </tr>\n",
       "    <tr>\n",
       "      <th>verano</th>\n",
       "      <td>2012340</td>\n",
       "    </tr>\n",
       "    <tr>\n",
       "      <th>otoño</th>\n",
       "      <td>2012340</td>\n",
       "    </tr>\n",
       "  </tbody>\n",
       "</table>\n",
       "</div>"
      ],
      "text/plain": [
       "           estacion\n",
       "invierno    2225770\n",
       "primavera   2073320\n",
       "verano      2012340\n",
       "otoño       2012340"
      ]
     },
     "execution_count": 63,
     "metadata": {},
     "output_type": "execute_result"
    }
   ],
   "source": [
    "Q_datos_por_estacion.head(4)"
   ]
  },
  {
   "cell_type": "code",
   "execution_count": 64,
   "id": "af6284d4-30ef-42e3-a8c0-37760b16927e",
   "metadata": {
    "tags": []
   },
   "outputs": [
    {
     "data": {
      "text/html": [
       "<div>\n",
       "<style scoped>\n",
       "    .dataframe tbody tr th:only-of-type {\n",
       "        vertical-align: middle;\n",
       "    }\n",
       "\n",
       "    .dataframe tbody tr th {\n",
       "        vertical-align: top;\n",
       "    }\n",
       "\n",
       "    .dataframe thead th {\n",
       "        text-align: right;\n",
       "    }\n",
       "</style>\n",
       "<table border=\"1\" class=\"dataframe\">\n",
       "  <thead>\n",
       "    <tr style=\"text-align: right;\">\n",
       "      <th></th>\n",
       "      <th>yearweek</th>\n",
       "      <th>id</th>\n",
       "      <th>weekly_sales</th>\n",
       "      <th>estacion</th>\n",
       "      <th>evento</th>\n",
       "    </tr>\n",
       "  </thead>\n",
       "  <tbody>\n",
       "    <tr>\n",
       "      <th>8323766</th>\n",
       "      <td>201616</td>\n",
       "      <td>SUPERMARKET_3_827_NYC_4</td>\n",
       "      <td>10</td>\n",
       "      <td>primavera</td>\n",
       "      <td>No event</td>\n",
       "    </tr>\n",
       "    <tr>\n",
       "      <th>8323767</th>\n",
       "      <td>201616</td>\n",
       "      <td>SUPERMARKET_3_827_PHI_1</td>\n",
       "      <td>25</td>\n",
       "      <td>primavera</td>\n",
       "      <td>No event</td>\n",
       "    </tr>\n",
       "    <tr>\n",
       "      <th>8323768</th>\n",
       "      <td>201616</td>\n",
       "      <td>SUPERMARKET_3_827_PHI_2</td>\n",
       "      <td>13</td>\n",
       "      <td>primavera</td>\n",
       "      <td>No event</td>\n",
       "    </tr>\n",
       "    <tr>\n",
       "      <th>8323769</th>\n",
       "      <td>201616</td>\n",
       "      <td>SUPERMARKET_3_827_PHI_3</td>\n",
       "      <td>0</td>\n",
       "      <td>primavera</td>\n",
       "      <td>No event</td>\n",
       "    </tr>\n",
       "  </tbody>\n",
       "</table>\n",
       "</div>"
      ],
      "text/plain": [
       "         yearweek                       id  weekly_sales   estacion    evento\n",
       "8323766    201616  SUPERMARKET_3_827_NYC_4            10  primavera  No event\n",
       "8323767    201616  SUPERMARKET_3_827_PHI_1            25  primavera  No event\n",
       "8323768    201616  SUPERMARKET_3_827_PHI_2            13  primavera  No event\n",
       "8323769    201616  SUPERMARKET_3_827_PHI_3             0  primavera  No event"
      ]
     },
     "execution_count": 64,
     "metadata": {},
     "output_type": "execute_result"
    }
   ],
   "source": [
    "df_weekly_agg.tail(4)"
   ]
  },
  {
   "cell_type": "code",
   "execution_count": 65,
   "id": "cd1df849",
   "metadata": {
    "colab": {
     "base_uri": "https://localhost:8080/"
    },
    "executionInfo": {
     "elapsed": 21,
     "status": "ok",
     "timestamp": 1678620692350,
     "user": {
      "displayName": "Sol Etcheverry",
      "userId": "02127738587789653386"
     },
     "user_tz": -60
    },
    "id": "cd1df849",
    "outputId": "c699b583-2aed-4721-ef9c-18526f9dda91",
    "tags": []
   },
   "outputs": [
    {
     "data": {
      "text/plain": [
       "273"
      ]
     },
     "execution_count": 65,
     "metadata": {},
     "output_type": "execute_result"
    }
   ],
   "source": [
    "## 273 semanas totales (recordar que borramos la última semana)\n",
    "df_weekly_agg['yearweek'].nunique()"
   ]
  },
  {
   "cell_type": "code",
   "execution_count": 66,
   "id": "86e021df",
   "metadata": {
    "id": "86e021df",
    "tags": []
   },
   "outputs": [],
   "source": [
    "# Tomamos la información que necesitamos para mas tarde\n",
    "add_info=df_merged_inner[['id',\n",
    "                          'item',\n",
    "                          'category',\n",
    "                          'store',\n",
    "                          'store_code',\n",
    "                          'region']].drop_duplicates()"
   ]
  },
  {
   "cell_type": "code",
   "execution_count": 67,
   "id": "f82a200e",
   "metadata": {
    "colab": {
     "base_uri": "https://localhost:8080/",
     "height": 143
    },
    "executionInfo": {
     "elapsed": 611,
     "status": "ok",
     "timestamp": 1678620728446,
     "user": {
      "displayName": "Sol Etcheverry",
      "userId": "02127738587789653386"
     },
     "user_tz": -60
    },
    "id": "f82a200e",
    "outputId": "9da07369-b90a-44c8-93bd-8908b04be613",
    "tags": []
   },
   "outputs": [
    {
     "data": {
      "text/html": [
       "<div>\n",
       "<style scoped>\n",
       "    .dataframe tbody tr th:only-of-type {\n",
       "        vertical-align: middle;\n",
       "    }\n",
       "\n",
       "    .dataframe tbody tr th {\n",
       "        vertical-align: top;\n",
       "    }\n",
       "\n",
       "    .dataframe thead th {\n",
       "        text-align: right;\n",
       "    }\n",
       "</style>\n",
       "<table border=\"1\" class=\"dataframe\">\n",
       "  <thead>\n",
       "    <tr style=\"text-align: right;\">\n",
       "      <th></th>\n",
       "      <th>id</th>\n",
       "      <th>item</th>\n",
       "      <th>category</th>\n",
       "      <th>store</th>\n",
       "      <th>store_code</th>\n",
       "      <th>region</th>\n",
       "    </tr>\n",
       "  </thead>\n",
       "  <tbody>\n",
       "    <tr>\n",
       "      <th>0</th>\n",
       "      <td>ACCESORIES_1_001_NYC_1</td>\n",
       "      <td>ACCESORIES_1_001</td>\n",
       "      <td>ACCESORIES</td>\n",
       "      <td>Greenwich_Village</td>\n",
       "      <td>NYC_1</td>\n",
       "      <td>New York</td>\n",
       "    </tr>\n",
       "    <tr>\n",
       "      <th>1</th>\n",
       "      <td>ACCESORIES_1_002_NYC_1</td>\n",
       "      <td>ACCESORIES_1_002</td>\n",
       "      <td>ACCESORIES</td>\n",
       "      <td>Greenwich_Village</td>\n",
       "      <td>NYC_1</td>\n",
       "      <td>New York</td>\n",
       "    </tr>\n",
       "    <tr>\n",
       "      <th>2</th>\n",
       "      <td>ACCESORIES_1_003_NYC_1</td>\n",
       "      <td>ACCESORIES_1_003</td>\n",
       "      <td>ACCESORIES</td>\n",
       "      <td>Greenwich_Village</td>\n",
       "      <td>NYC_1</td>\n",
       "      <td>New York</td>\n",
       "    </tr>\n",
       "  </tbody>\n",
       "</table>\n",
       "</div>"
      ],
      "text/plain": [
       "                       id              item    category              store  \\\n",
       "0  ACCESORIES_1_001_NYC_1  ACCESORIES_1_001  ACCESORIES  Greenwich_Village   \n",
       "1  ACCESORIES_1_002_NYC_1  ACCESORIES_1_002  ACCESORIES  Greenwich_Village   \n",
       "2  ACCESORIES_1_003_NYC_1  ACCESORIES_1_003  ACCESORIES  Greenwich_Village   \n",
       "\n",
       "  store_code    region  \n",
       "0      NYC_1  New York  \n",
       "1      NYC_1  New York  \n",
       "2      NYC_1  New York  "
      ]
     },
     "execution_count": 67,
     "metadata": {},
     "output_type": "execute_result"
    }
   ],
   "source": [
    "add_info.head(3)"
   ]
  },
  {
   "cell_type": "code",
   "execution_count": 68,
   "id": "47592273",
   "metadata": {
    "colab": {
     "base_uri": "https://localhost:8080/"
    },
    "executionInfo": {
     "elapsed": 1845,
     "status": "ok",
     "timestamp": 1678620749582,
     "user": {
      "displayName": "Sol Etcheverry",
      "userId": "02127738587789653386"
     },
     "user_tz": -60
    },
    "id": "47592273",
    "outputId": "3a69c5af-472b-4c1a-8fcb-ec8a3ce25446",
    "tags": []
   },
   "outputs": [
    {
     "name": "stdout",
     "output_type": "stream",
     "text": [
      "(8323770, 2)\n",
      "(8323770, 7)\n",
      "CPU times: user 925 ms, sys: 127 ms, total: 1.05 s\n",
      "Wall time: 1.05 s\n"
     ]
    }
   ],
   "source": [
    "%%time\n",
    "# Unimos el full_df que era el productor cartesiano de semanas y id\n",
    "\n",
    "print(full_df.shape)\n",
    "\n",
    "full_df = pd.merge(\n",
    "    left = full_df,\n",
    "    right = add_info,\n",
    "    how = \"left\",\n",
    "    on = \"id\"\n",
    ")\n",
    "\n",
    "print(full_df.shape)"
   ]
  },
  {
   "cell_type": "code",
   "execution_count": 69,
   "id": "138ecf65",
   "metadata": {
    "colab": {
     "base_uri": "https://localhost:8080/",
     "height": 143
    },
    "executionInfo": {
     "elapsed": 388,
     "status": "ok",
     "timestamp": 1678620756388,
     "user": {
      "displayName": "Sol Etcheverry",
      "userId": "02127738587789653386"
     },
     "user_tz": -60
    },
    "id": "138ecf65",
    "outputId": "b63bd034-b883-4a9f-bde8-32bada2ad48d",
    "tags": []
   },
   "outputs": [
    {
     "data": {
      "text/html": [
       "<div>\n",
       "<style scoped>\n",
       "    .dataframe tbody tr th:only-of-type {\n",
       "        vertical-align: middle;\n",
       "    }\n",
       "\n",
       "    .dataframe tbody tr th {\n",
       "        vertical-align: top;\n",
       "    }\n",
       "\n",
       "    .dataframe thead th {\n",
       "        text-align: right;\n",
       "    }\n",
       "</style>\n",
       "<table border=\"1\" class=\"dataframe\">\n",
       "  <thead>\n",
       "    <tr style=\"text-align: right;\">\n",
       "      <th></th>\n",
       "      <th>yearweek</th>\n",
       "      <th>id</th>\n",
       "      <th>item</th>\n",
       "      <th>category</th>\n",
       "      <th>store</th>\n",
       "      <th>store_code</th>\n",
       "      <th>region</th>\n",
       "    </tr>\n",
       "  </thead>\n",
       "  <tbody>\n",
       "    <tr>\n",
       "      <th>0</th>\n",
       "      <td>201105</td>\n",
       "      <td>ACCESORIES_1_001_NYC_1</td>\n",
       "      <td>ACCESORIES_1_001</td>\n",
       "      <td>ACCESORIES</td>\n",
       "      <td>Greenwich_Village</td>\n",
       "      <td>NYC_1</td>\n",
       "      <td>New York</td>\n",
       "    </tr>\n",
       "    <tr>\n",
       "      <th>1</th>\n",
       "      <td>201105</td>\n",
       "      <td>ACCESORIES_1_002_NYC_1</td>\n",
       "      <td>ACCESORIES_1_002</td>\n",
       "      <td>ACCESORIES</td>\n",
       "      <td>Greenwich_Village</td>\n",
       "      <td>NYC_1</td>\n",
       "      <td>New York</td>\n",
       "    </tr>\n",
       "    <tr>\n",
       "      <th>2</th>\n",
       "      <td>201105</td>\n",
       "      <td>ACCESORIES_1_003_NYC_1</td>\n",
       "      <td>ACCESORIES_1_003</td>\n",
       "      <td>ACCESORIES</td>\n",
       "      <td>Greenwich_Village</td>\n",
       "      <td>NYC_1</td>\n",
       "      <td>New York</td>\n",
       "    </tr>\n",
       "  </tbody>\n",
       "</table>\n",
       "</div>"
      ],
      "text/plain": [
       "   yearweek                      id              item    category  \\\n",
       "0    201105  ACCESORIES_1_001_NYC_1  ACCESORIES_1_001  ACCESORIES   \n",
       "1    201105  ACCESORIES_1_002_NYC_1  ACCESORIES_1_002  ACCESORIES   \n",
       "2    201105  ACCESORIES_1_003_NYC_1  ACCESORIES_1_003  ACCESORIES   \n",
       "\n",
       "               store store_code    region  \n",
       "0  Greenwich_Village      NYC_1  New York  \n",
       "1  Greenwich_Village      NYC_1  New York  \n",
       "2  Greenwich_Village      NYC_1  New York  "
      ]
     },
     "execution_count": 69,
     "metadata": {},
     "output_type": "execute_result"
    }
   ],
   "source": [
    "full_df.rename(columns={'week':'yearweek'},inplace=True)\n",
    "full_df.head(3)"
   ]
  },
  {
   "cell_type": "code",
   "execution_count": 70,
   "id": "59dc42be",
   "metadata": {
    "colab": {
     "base_uri": "https://localhost:8080/"
    },
    "executionInfo": {
     "elapsed": 994,
     "status": "ok",
     "timestamp": 1678620769806,
     "user": {
      "displayName": "Sol Etcheverry",
      "userId": "02127738587789653386"
     },
     "user_tz": -60
    },
    "id": "59dc42be",
    "outputId": "4390f0a6-d66f-4057-9092-6b5072b7a6a3",
    "tags": []
   },
   "outputs": [
    {
     "data": {
      "text/plain": [
       "yearweek        0\n",
       "id              0\n",
       "weekly_sales    0\n",
       "estacion        0\n",
       "evento          0\n",
       "dtype: int64"
      ]
     },
     "execution_count": 70,
     "metadata": {},
     "output_type": "execute_result"
    }
   ],
   "source": [
    "# vemos nulos\n",
    "df_weekly_agg.isnull().sum()"
   ]
  },
  {
   "cell_type": "code",
   "execution_count": 71,
   "id": "c35a0f6f-d466-48d8-81f6-34e43edff8e9",
   "metadata": {
    "tags": []
   },
   "outputs": [
    {
     "data": {
      "text/plain": [
       "201616"
      ]
     },
     "execution_count": 71,
     "metadata": {},
     "output_type": "execute_result"
    }
   ],
   "source": [
    "full_df['yearweek'].max()"
   ]
  },
  {
   "cell_type": "code",
   "execution_count": 72,
   "id": "849da02a-faa1-4584-9934-49facf091a3a",
   "metadata": {
    "tags": []
   },
   "outputs": [
    {
     "data": {
      "text/plain": [
       "201616"
      ]
     },
     "execution_count": 72,
     "metadata": {},
     "output_type": "execute_result"
    }
   ],
   "source": [
    "df_weekly_agg['yearweek'].max()"
   ]
  },
  {
   "cell_type": "code",
   "execution_count": 73,
   "id": "38e1a09e",
   "metadata": {
    "colab": {
     "base_uri": "https://localhost:8080/"
    },
    "executionInfo": {
     "elapsed": 6051,
     "status": "ok",
     "timestamp": 1678620783738,
     "user": {
      "displayName": "Sol Etcheverry",
      "userId": "02127738587789653386"
     },
     "user_tz": -60
    },
    "id": "38e1a09e",
    "outputId": "f3bbe83a-04af-461b-b036-9a3b4cbc2633",
    "tags": []
   },
   "outputs": [
    {
     "name": "stdout",
     "output_type": "stream",
     "text": [
      "(8323770, 7)\n",
      "(8323770, 10)\n",
      "CPU times: user 2.58 s, sys: 399 ms, total: 2.98 s\n",
      "Wall time: 2.98 s\n"
     ]
    }
   ],
   "source": [
    "%%time\n",
    "# Join por la izquierda.\n",
    "print(full_df.shape)\n",
    "full_df = pd.merge(full_df, df_weekly_agg, on = ['yearweek','id'], how = 'left')\n",
    "print(full_df.shape)"
   ]
  },
  {
   "cell_type": "code",
   "execution_count": 74,
   "id": "c94dc95f",
   "metadata": {
    "colab": {
     "base_uri": "https://localhost:8080/",
     "height": 488
    },
    "executionInfo": {
     "elapsed": 24,
     "status": "ok",
     "timestamp": 1678620800503,
     "user": {
      "displayName": "Sol Etcheverry",
      "userId": "02127738587789653386"
     },
     "user_tz": -60
    },
    "id": "c94dc95f",
    "outputId": "26e15477-5203-4102-c7ca-a8ed604c719e",
    "tags": []
   },
   "outputs": [
    {
     "data": {
      "text/html": [
       "<div>\n",
       "<style scoped>\n",
       "    .dataframe tbody tr th:only-of-type {\n",
       "        vertical-align: middle;\n",
       "    }\n",
       "\n",
       "    .dataframe tbody tr th {\n",
       "        vertical-align: top;\n",
       "    }\n",
       "\n",
       "    .dataframe thead th {\n",
       "        text-align: right;\n",
       "    }\n",
       "</style>\n",
       "<table border=\"1\" class=\"dataframe\">\n",
       "  <thead>\n",
       "    <tr style=\"text-align: right;\">\n",
       "      <th></th>\n",
       "      <th>yearweek</th>\n",
       "      <th>id</th>\n",
       "      <th>item</th>\n",
       "      <th>category</th>\n",
       "      <th>store</th>\n",
       "      <th>store_code</th>\n",
       "      <th>region</th>\n",
       "      <th>weekly_sales</th>\n",
       "      <th>estacion</th>\n",
       "      <th>evento</th>\n",
       "    </tr>\n",
       "  </thead>\n",
       "  <tbody>\n",
       "    <tr>\n",
       "      <th>0</th>\n",
       "      <td>201105</td>\n",
       "      <td>ACCESORIES_1_001_NYC_1</td>\n",
       "      <td>ACCESORIES_1_001</td>\n",
       "      <td>ACCESORIES</td>\n",
       "      <td>Greenwich_Village</td>\n",
       "      <td>NYC_1</td>\n",
       "      <td>New York</td>\n",
       "      <td>0</td>\n",
       "      <td>invierno</td>\n",
       "      <td>No event</td>\n",
       "    </tr>\n",
       "    <tr>\n",
       "      <th>1</th>\n",
       "      <td>201105</td>\n",
       "      <td>ACCESORIES_1_002_NYC_1</td>\n",
       "      <td>ACCESORIES_1_002</td>\n",
       "      <td>ACCESORIES</td>\n",
       "      <td>Greenwich_Village</td>\n",
       "      <td>NYC_1</td>\n",
       "      <td>New York</td>\n",
       "      <td>0</td>\n",
       "      <td>invierno</td>\n",
       "      <td>No event</td>\n",
       "    </tr>\n",
       "    <tr>\n",
       "      <th>2</th>\n",
       "      <td>201105</td>\n",
       "      <td>ACCESORIES_1_003_NYC_1</td>\n",
       "      <td>ACCESORIES_1_003</td>\n",
       "      <td>ACCESORIES</td>\n",
       "      <td>Greenwich_Village</td>\n",
       "      <td>NYC_1</td>\n",
       "      <td>New York</td>\n",
       "      <td>0</td>\n",
       "      <td>invierno</td>\n",
       "      <td>No event</td>\n",
       "    </tr>\n",
       "    <tr>\n",
       "      <th>3</th>\n",
       "      <td>201105</td>\n",
       "      <td>ACCESORIES_1_004_NYC_1</td>\n",
       "      <td>ACCESORIES_1_004</td>\n",
       "      <td>ACCESORIES</td>\n",
       "      <td>Greenwich_Village</td>\n",
       "      <td>NYC_1</td>\n",
       "      <td>New York</td>\n",
       "      <td>0</td>\n",
       "      <td>invierno</td>\n",
       "      <td>No event</td>\n",
       "    </tr>\n",
       "    <tr>\n",
       "      <th>4</th>\n",
       "      <td>201105</td>\n",
       "      <td>ACCESORIES_1_005_NYC_1</td>\n",
       "      <td>ACCESORIES_1_005</td>\n",
       "      <td>ACCESORIES</td>\n",
       "      <td>Greenwich_Village</td>\n",
       "      <td>NYC_1</td>\n",
       "      <td>New York</td>\n",
       "      <td>0</td>\n",
       "      <td>invierno</td>\n",
       "      <td>No event</td>\n",
       "    </tr>\n",
       "  </tbody>\n",
       "</table>\n",
       "</div>"
      ],
      "text/plain": [
       "   yearweek                      id              item    category  \\\n",
       "0    201105  ACCESORIES_1_001_NYC_1  ACCESORIES_1_001  ACCESORIES   \n",
       "1    201105  ACCESORIES_1_002_NYC_1  ACCESORIES_1_002  ACCESORIES   \n",
       "2    201105  ACCESORIES_1_003_NYC_1  ACCESORIES_1_003  ACCESORIES   \n",
       "3    201105  ACCESORIES_1_004_NYC_1  ACCESORIES_1_004  ACCESORIES   \n",
       "4    201105  ACCESORIES_1_005_NYC_1  ACCESORIES_1_005  ACCESORIES   \n",
       "\n",
       "               store store_code    region  weekly_sales  estacion    evento  \n",
       "0  Greenwich_Village      NYC_1  New York             0  invierno  No event  \n",
       "1  Greenwich_Village      NYC_1  New York             0  invierno  No event  \n",
       "2  Greenwich_Village      NYC_1  New York             0  invierno  No event  \n",
       "3  Greenwich_Village      NYC_1  New York             0  invierno  No event  \n",
       "4  Greenwich_Village      NYC_1  New York             0  invierno  No event  "
      ]
     },
     "execution_count": 74,
     "metadata": {},
     "output_type": "execute_result"
    }
   ],
   "source": [
    "full_df.head(5)"
   ]
  },
  {
   "cell_type": "code",
   "execution_count": 75,
   "id": "60e3c9ff",
   "metadata": {
    "colab": {
     "base_uri": "https://localhost:8080/"
    },
    "executionInfo": {
     "elapsed": 1197,
     "status": "ok",
     "timestamp": 1678620820437,
     "user": {
      "displayName": "Sol Etcheverry",
      "userId": "02127738587789653386"
     },
     "user_tz": -60
    },
    "id": "60e3c9ff",
    "outputId": "5909d86b-3c17-4248-f183-60f7d119d0d8",
    "tags": []
   },
   "outputs": [
    {
     "data": {
      "text/plain": [
       "yearweek        0\n",
       "id              0\n",
       "item            0\n",
       "category        0\n",
       "store           0\n",
       "store_code      0\n",
       "region          0\n",
       "weekly_sales    0\n",
       "estacion        0\n",
       "evento          0\n",
       "dtype: int64"
      ]
     },
     "execution_count": 75,
     "metadata": {},
     "output_type": "execute_result"
    }
   ],
   "source": [
    "full_df.isnull().sum()"
   ]
  },
  {
   "cell_type": "code",
   "execution_count": 76,
   "id": "bdb6e01f",
   "metadata": {
    "id": "bdb6e01f",
    "tags": []
   },
   "outputs": [],
   "source": [
    "# Ya con esta tabla, la tenemos que unir con la de precio asi sacamos el revenue"
   ]
  },
  {
   "cell_type": "code",
   "execution_count": 77,
   "id": "9e6b9db4",
   "metadata": {
    "id": "9e6b9db4",
    "tags": []
   },
   "outputs": [],
   "source": [
    "cambioFormato(df_prices,['item', 'category', 'store_code'],'category')"
   ]
  },
  {
   "cell_type": "code",
   "execution_count": 78,
   "id": "3e12887d",
   "metadata": {
    "colab": {
     "base_uri": "https://localhost:8080/"
    },
    "executionInfo": {
     "elapsed": 1771,
     "status": "ok",
     "timestamp": 1678620848776,
     "user": {
      "displayName": "Sol Etcheverry",
      "userId": "02127738587789653386"
     },
     "user_tz": -60
    },
    "id": "3e12887d",
    "outputId": "bf26c7fc-5c24-4c48-a33f-dfbe1a45ba4a",
    "tags": []
   },
   "outputs": [
    {
     "name": "stdout",
     "output_type": "stream",
     "text": [
      "Su shape (6965706, 5)\n",
      "El número de duplicados es  212120\n"
     ]
    },
    {
     "data": {
      "text/plain": [
       "item             0 nulos ________\n",
       "category         0 nulos ________\n",
       "store_code       0 nulos ________\n",
       "yearweek      243920 nulos, 3.5 %\n",
       "sell_price       0 nulos ________\n",
       "dtype: object"
      ]
     },
     "execution_count": 78,
     "metadata": {},
     "output_type": "execute_result"
    }
   ],
   "source": [
    "# vemos datos generales del dataset de precios\n",
    "datosGenerales(df_prices)"
   ]
  },
  {
   "cell_type": "code",
   "execution_count": 79,
   "id": "6ec90285",
   "metadata": {
    "id": "6ec90285",
    "tags": []
   },
   "outputs": [],
   "source": [
    "df_prices.dropna(inplace=True)"
   ]
  },
  {
   "cell_type": "code",
   "execution_count": 80,
   "id": "918b2c1e",
   "metadata": {
    "colab": {
     "base_uri": "https://localhost:8080/",
     "height": 424
    },
    "executionInfo": {
     "elapsed": 1017,
     "status": "ok",
     "timestamp": 1678620854736,
     "user": {
      "displayName": "Sol Etcheverry",
      "userId": "02127738587789653386"
     },
     "user_tz": -60
    },
    "id": "918b2c1e",
    "outputId": "ae8bb5c0-fc89-47b6-da02-b0ffa55dfd46",
    "tags": []
   },
   "outputs": [
    {
     "data": {
      "text/html": [
       "<div>\n",
       "<style scoped>\n",
       "    .dataframe tbody tr th:only-of-type {\n",
       "        vertical-align: middle;\n",
       "    }\n",
       "\n",
       "    .dataframe tbody tr th {\n",
       "        vertical-align: top;\n",
       "    }\n",
       "\n",
       "    .dataframe thead th {\n",
       "        text-align: right;\n",
       "    }\n",
       "</style>\n",
       "<table border=\"1\" class=\"dataframe\">\n",
       "  <thead>\n",
       "    <tr style=\"text-align: right;\">\n",
       "      <th></th>\n",
       "      <th>item</th>\n",
       "      <th>category</th>\n",
       "      <th>store_code</th>\n",
       "      <th>yearweek</th>\n",
       "      <th>sell_price</th>\n",
       "    </tr>\n",
       "  </thead>\n",
       "  <tbody>\n",
       "    <tr>\n",
       "      <th>5539160</th>\n",
       "      <td>SUPERMARKET_3_702</td>\n",
       "      <td>SUPERMARKET</td>\n",
       "      <td>PHI_1</td>\n",
       "      <td>201105.0</td>\n",
       "      <td>3.9360</td>\n",
       "    </tr>\n",
       "    <tr>\n",
       "      <th>6613947</th>\n",
       "      <td>HOME_&amp;_GARDEN_2_445</td>\n",
       "      <td>HOME_&amp;_GARDEN</td>\n",
       "      <td>PHI_3</td>\n",
       "      <td>201105.0</td>\n",
       "      <td>8.1000</td>\n",
       "    </tr>\n",
       "    <tr>\n",
       "      <th>261069</th>\n",
       "      <td>HOME_&amp;_GARDEN_2_041</td>\n",
       "      <td>HOME_&amp;_GARDEN</td>\n",
       "      <td>NYC_1</td>\n",
       "      <td>201105.0</td>\n",
       "      <td>6.5875</td>\n",
       "    </tr>\n",
       "    <tr>\n",
       "      <th>1516539</th>\n",
       "      <td>HOME_&amp;_GARDEN_1_117</td>\n",
       "      <td>HOME_&amp;_GARDEN</td>\n",
       "      <td>NYC_3</td>\n",
       "      <td>201105.0</td>\n",
       "      <td>11.2125</td>\n",
       "    </tr>\n",
       "    <tr>\n",
       "      <th>563249</th>\n",
       "      <td>SUPERMARKET_3_188</td>\n",
       "      <td>SUPERMARKET</td>\n",
       "      <td>NYC_1</td>\n",
       "      <td>201105.0</td>\n",
       "      <td>2.3760</td>\n",
       "    </tr>\n",
       "    <tr>\n",
       "      <th>...</th>\n",
       "      <td>...</td>\n",
       "      <td>...</td>\n",
       "      <td>...</td>\n",
       "      <td>...</td>\n",
       "      <td>...</td>\n",
       "    </tr>\n",
       "    <tr>\n",
       "      <th>2386874</th>\n",
       "      <td>HOME_&amp;_GARDEN_2_338</td>\n",
       "      <td>HOME_&amp;_GARDEN</td>\n",
       "      <td>NYC_4</td>\n",
       "      <td>201617.0</td>\n",
       "      <td>6.1500</td>\n",
       "    </tr>\n",
       "    <tr>\n",
       "      <th>2387152</th>\n",
       "      <td>HOME_&amp;_GARDEN_2_339</td>\n",
       "      <td>HOME_&amp;_GARDEN</td>\n",
       "      <td>NYC_4</td>\n",
       "      <td>201617.0</td>\n",
       "      <td>8.0750</td>\n",
       "    </tr>\n",
       "    <tr>\n",
       "      <th>6156810</th>\n",
       "      <td>SUPERMARKET_3_382</td>\n",
       "      <td>SUPERMARKET</td>\n",
       "      <td>PHI_2</td>\n",
       "      <td>201617.0</td>\n",
       "      <td>2.1360</td>\n",
       "    </tr>\n",
       "    <tr>\n",
       "      <th>2386079</th>\n",
       "      <td>HOME_&amp;_GARDEN_2_334</td>\n",
       "      <td>HOME_&amp;_GARDEN</td>\n",
       "      <td>NYC_4</td>\n",
       "      <td>201617.0</td>\n",
       "      <td>3.7250</td>\n",
       "    </tr>\n",
       "    <tr>\n",
       "      <th>6965697</th>\n",
       "      <td>SUPERMARKET_3_827</td>\n",
       "      <td>SUPERMARKET</td>\n",
       "      <td>PHI_3</td>\n",
       "      <td>201617.0</td>\n",
       "      <td>1.2000</td>\n",
       "    </tr>\n",
       "  </tbody>\n",
       "</table>\n",
       "<p>6721786 rows × 5 columns</p>\n",
       "</div>"
      ],
      "text/plain": [
       "                        item       category store_code  yearweek  sell_price\n",
       "5539160    SUPERMARKET_3_702    SUPERMARKET      PHI_1  201105.0      3.9360\n",
       "6613947  HOME_&_GARDEN_2_445  HOME_&_GARDEN      PHI_3  201105.0      8.1000\n",
       "261069   HOME_&_GARDEN_2_041  HOME_&_GARDEN      NYC_1  201105.0      6.5875\n",
       "1516539  HOME_&_GARDEN_1_117  HOME_&_GARDEN      NYC_3  201105.0     11.2125\n",
       "563249     SUPERMARKET_3_188    SUPERMARKET      NYC_1  201105.0      2.3760\n",
       "...                      ...            ...        ...       ...         ...\n",
       "2386874  HOME_&_GARDEN_2_338  HOME_&_GARDEN      NYC_4  201617.0      6.1500\n",
       "2387152  HOME_&_GARDEN_2_339  HOME_&_GARDEN      NYC_4  201617.0      8.0750\n",
       "6156810    SUPERMARKET_3_382    SUPERMARKET      PHI_2  201617.0      2.1360\n",
       "2386079  HOME_&_GARDEN_2_334  HOME_&_GARDEN      NYC_4  201617.0      3.7250\n",
       "6965697    SUPERMARKET_3_827    SUPERMARKET      PHI_3  201617.0      1.2000\n",
       "\n",
       "[6721786 rows x 5 columns]"
      ]
     },
     "execution_count": 80,
     "metadata": {},
     "output_type": "execute_result"
    }
   ],
   "source": [
    "df_prices.sort_values(by='yearweek')"
   ]
  },
  {
   "cell_type": "code",
   "execution_count": 81,
   "id": "6c45f724-33ad-4f26-87ca-f7011f3f3036",
   "metadata": {
    "tags": []
   },
   "outputs": [],
   "source": [
    "# Eliminamos la semana 201617 por ser incompleta\n",
    "df_prices = df_prices[df_prices['yearweek'] != 201617 ]"
   ]
  },
  {
   "cell_type": "code",
   "execution_count": 82,
   "id": "7bbfb280",
   "metadata": {
    "colab": {
     "base_uri": "https://localhost:8080/"
    },
    "executionInfo": {
     "elapsed": 289,
     "status": "ok",
     "timestamp": 1678620865331,
     "user": {
      "displayName": "Sol Etcheverry",
      "userId": "02127738587789653386"
     },
     "user_tz": -60
    },
    "id": "7bbfb280",
    "outputId": "67d0e135-89c5-4dda-ac20-48fb6f86afeb",
    "tags": []
   },
   "outputs": [
    {
     "data": {
      "text/plain": [
       "3049"
      ]
     },
     "execution_count": 82,
     "metadata": {},
     "output_type": "execute_result"
    }
   ],
   "source": [
    "full_df['item'].nunique()"
   ]
  },
  {
   "cell_type": "markdown",
   "id": "df6e347b",
   "metadata": {
    "id": "df6e347b"
   },
   "source": [
    "## Final merge para tener 1 sola tabla"
   ]
  },
  {
   "cell_type": "code",
   "execution_count": 83,
   "id": "f9bf4bf1",
   "metadata": {
    "colab": {
     "base_uri": "https://localhost:8080/"
    },
    "executionInfo": {
     "elapsed": 7170,
     "status": "ok",
     "timestamp": 1678620890885,
     "user": {
      "displayName": "Sol Etcheverry",
      "userId": "02127738587789653386"
     },
     "user_tz": -60
    },
    "id": "f9bf4bf1",
    "outputId": "53daae0e-fdcd-43d0-99cf-2c8a07e1ca43",
    "tags": []
   },
   "outputs": [
    {
     "name": "stdout",
     "output_type": "stream",
     "text": [
      "(8323770, 10)\n",
      "(8323770, 11)\n"
     ]
    }
   ],
   "source": [
    "#%%time\n",
    "print(full_df.shape)\n",
    "df_final = pd.merge(full_df, df_prices, on = ['yearweek',\n",
    "                                              'item',\n",
    "                                              'category',\n",
    "                                              'store_code'],\n",
    "                    how = 'left')\n",
    "print(df_final.shape)"
   ]
  },
  {
   "cell_type": "code",
   "execution_count": 84,
   "id": "be145349",
   "metadata": {
    "colab": {
     "base_uri": "https://localhost:8080/"
    },
    "executionInfo": {
     "elapsed": 1334,
     "status": "ok",
     "timestamp": 1678620896063,
     "user": {
      "displayName": "Sol Etcheverry",
      "userId": "02127738587789653386"
     },
     "user_tz": -60
    },
    "id": "be145349",
    "outputId": "ae36fe96-2fef-44f0-864c-3ecbf08286cf",
    "tags": []
   },
   "outputs": [
    {
     "data": {
      "text/plain": [
       "yearweek              0\n",
       "id                    0\n",
       "item                  0\n",
       "category              0\n",
       "store                 0\n",
       "store_code            0\n",
       "region                0\n",
       "weekly_sales          0\n",
       "estacion              0\n",
       "evento                0\n",
       "sell_price      1757059\n",
       "dtype: int64"
      ]
     },
     "execution_count": 84,
     "metadata": {},
     "output_type": "execute_result"
    }
   ],
   "source": [
    "df_final.isnull().sum()"
   ]
  },
  {
   "cell_type": "code",
   "execution_count": 85,
   "id": "ffdda4af",
   "metadata": {
    "colab": {
     "base_uri": "https://localhost:8080/"
    },
    "executionInfo": {
     "elapsed": 15964,
     "status": "ok",
     "timestamp": 1678620921171,
     "user": {
      "displayName": "Sol Etcheverry",
      "userId": "02127738587789653386"
     },
     "user_tz": -60
    },
    "id": "ffdda4af",
    "outputId": "551fe004-7d9c-4284-e917-e2bb55cf6469",
    "tags": []
   },
   "outputs": [
    {
     "name": "stderr",
     "output_type": "stream",
     "text": [
      "<timed exec>:2: FutureWarning: Not prepending group keys to the result index of transform-like apply. In the future, the group keys will be included in the index, regardless of whether the applied function returns a like-indexed object.\n",
      "To preserve the previous behavior, use\n",
      "\n",
      "\t>>> .groupby(..., group_keys=False)\n",
      "\n",
      "To adopt the future behavior and silence this warning, use \n",
      "\n",
      "\t>>> .groupby(..., group_keys=True)\n"
     ]
    },
    {
     "name": "stdout",
     "output_type": "stream",
     "text": [
      "CPU times: user 5.19 s, sys: 772 ms, total: 5.96 s\n",
      "Wall time: 5.95 s\n"
     ]
    }
   ],
   "source": [
    "%%time\n",
    "# Debido a los nulos en precios, los completamos con los de la semana anterior\n",
    "df_final[\"sell_price\"] = df_final.groupby([\"item\",\n",
    "                                           'category',\n",
    "                                           'store_code'])[\"sell_price\"].apply(lambda series:\n",
    "                                                                              series.backfill().ffill())"
   ]
  },
  {
   "cell_type": "code",
   "execution_count": 86,
   "id": "33063b8c",
   "metadata": {
    "id": "33063b8c",
    "tags": []
   },
   "outputs": [],
   "source": [
    "df_final['revenue']=df_final['weekly_sales']*df_final['sell_price']"
   ]
  },
  {
   "cell_type": "code",
   "execution_count": 87,
   "id": "2c6a0fde",
   "metadata": {
    "colab": {
     "base_uri": "https://localhost:8080/",
     "height": 488
    },
    "executionInfo": {
     "elapsed": 2748,
     "status": "ok",
     "timestamp": 1678620932812,
     "user": {
      "displayName": "Sol Etcheverry",
      "userId": "02127738587789653386"
     },
     "user_tz": -60
    },
    "id": "2c6a0fde",
    "outputId": "f9a3902e-1db7-45e5-c8c4-1e12286e83b3",
    "tags": []
   },
   "outputs": [
    {
     "data": {
      "text/html": [
       "<div>\n",
       "<style scoped>\n",
       "    .dataframe tbody tr th:only-of-type {\n",
       "        vertical-align: middle;\n",
       "    }\n",
       "\n",
       "    .dataframe tbody tr th {\n",
       "        vertical-align: top;\n",
       "    }\n",
       "\n",
       "    .dataframe thead th {\n",
       "        text-align: right;\n",
       "    }\n",
       "</style>\n",
       "<table border=\"1\" class=\"dataframe\">\n",
       "  <thead>\n",
       "    <tr style=\"text-align: right;\">\n",
       "      <th></th>\n",
       "      <th>yearweek</th>\n",
       "      <th>id</th>\n",
       "      <th>item</th>\n",
       "      <th>category</th>\n",
       "      <th>store</th>\n",
       "      <th>store_code</th>\n",
       "      <th>region</th>\n",
       "      <th>weekly_sales</th>\n",
       "      <th>estacion</th>\n",
       "      <th>evento</th>\n",
       "      <th>sell_price</th>\n",
       "      <th>revenue</th>\n",
       "    </tr>\n",
       "  </thead>\n",
       "  <tbody>\n",
       "    <tr>\n",
       "      <th>3138512</th>\n",
       "      <td>201302</td>\n",
       "      <td>HOME_&amp;_GARDEN_1_536_PHI_3</td>\n",
       "      <td>HOME_&amp;_GARDEN_1_536</td>\n",
       "      <td>HOME_&amp;_GARDEN</td>\n",
       "      <td>Queen_Village</td>\n",
       "      <td>PHI_3</td>\n",
       "      <td>Philadelphia</td>\n",
       "      <td>0</td>\n",
       "      <td>invierno</td>\n",
       "      <td>Martin Luther King Jr</td>\n",
       "      <td>3.7250</td>\n",
       "      <td>0.0000</td>\n",
       "    </tr>\n",
       "    <tr>\n",
       "      <th>6199247</th>\n",
       "      <td>201451</td>\n",
       "      <td>HOME_&amp;_GARDEN_1_068_NYC_4</td>\n",
       "      <td>HOME_&amp;_GARDEN_1_068</td>\n",
       "      <td>HOME_&amp;_GARDEN</td>\n",
       "      <td>Brooklyn</td>\n",
       "      <td>NYC_4</td>\n",
       "      <td>New York</td>\n",
       "      <td>10</td>\n",
       "      <td>otoño</td>\n",
       "      <td>Navidad</td>\n",
       "      <td>8.7125</td>\n",
       "      <td>87.1250</td>\n",
       "    </tr>\n",
       "    <tr>\n",
       "      <th>1237532</th>\n",
       "      <td>201145</td>\n",
       "      <td>SUPERMARKET_3_463_BOS_2</td>\n",
       "      <td>SUPERMARKET_3_463</td>\n",
       "      <td>SUPERMARKET</td>\n",
       "      <td>Roxbury</td>\n",
       "      <td>BOS_2</td>\n",
       "      <td>Boston</td>\n",
       "      <td>0</td>\n",
       "      <td>otoño</td>\n",
       "      <td>No event</td>\n",
       "      <td>7.1760</td>\n",
       "      <td>0.0000</td>\n",
       "    </tr>\n",
       "    <tr>\n",
       "      <th>2747483</th>\n",
       "      <td>201243</td>\n",
       "      <td>ACCESORIES_1_343_NYC_2</td>\n",
       "      <td>ACCESORIES_1_343</td>\n",
       "      <td>ACCESORIES</td>\n",
       "      <td>Harlem</td>\n",
       "      <td>NYC_2</td>\n",
       "      <td>New York</td>\n",
       "      <td>7</td>\n",
       "      <td>otoño</td>\n",
       "      <td>No event</td>\n",
       "      <td>7.0756</td>\n",
       "      <td>49.5292</td>\n",
       "    </tr>\n",
       "    <tr>\n",
       "      <th>1970968</th>\n",
       "      <td>201217</td>\n",
       "      <td>HOME_&amp;_GARDEN_2_219_BOS_3</td>\n",
       "      <td>HOME_&amp;_GARDEN_2_219</td>\n",
       "      <td>HOME_&amp;_GARDEN</td>\n",
       "      <td>Back_Bay</td>\n",
       "      <td>BOS_3</td>\n",
       "      <td>Boston</td>\n",
       "      <td>11</td>\n",
       "      <td>primavera</td>\n",
       "      <td>No event</td>\n",
       "      <td>3.7125</td>\n",
       "      <td>40.8375</td>\n",
       "    </tr>\n",
       "  </tbody>\n",
       "</table>\n",
       "</div>"
      ],
      "text/plain": [
       "         yearweek                         id                 item  \\\n",
       "3138512    201302  HOME_&_GARDEN_1_536_PHI_3  HOME_&_GARDEN_1_536   \n",
       "6199247    201451  HOME_&_GARDEN_1_068_NYC_4  HOME_&_GARDEN_1_068   \n",
       "1237532    201145    SUPERMARKET_3_463_BOS_2    SUPERMARKET_3_463   \n",
       "2747483    201243     ACCESORIES_1_343_NYC_2     ACCESORIES_1_343   \n",
       "1970968    201217  HOME_&_GARDEN_2_219_BOS_3  HOME_&_GARDEN_2_219   \n",
       "\n",
       "              category          store store_code        region  weekly_sales  \\\n",
       "3138512  HOME_&_GARDEN  Queen_Village      PHI_3  Philadelphia             0   \n",
       "6199247  HOME_&_GARDEN       Brooklyn      NYC_4      New York            10   \n",
       "1237532    SUPERMARKET        Roxbury      BOS_2        Boston             0   \n",
       "2747483     ACCESORIES         Harlem      NYC_2      New York             7   \n",
       "1970968  HOME_&_GARDEN       Back_Bay      BOS_3        Boston            11   \n",
       "\n",
       "          estacion                 evento  sell_price  revenue  \n",
       "3138512   invierno  Martin Luther King Jr      3.7250   0.0000  \n",
       "6199247      otoño                Navidad      8.7125  87.1250  \n",
       "1237532      otoño               No event      7.1760   0.0000  \n",
       "2747483      otoño               No event      7.0756  49.5292  \n",
       "1970968  primavera               No event      3.7125  40.8375  "
      ]
     },
     "execution_count": 87,
     "metadata": {},
     "output_type": "execute_result"
    }
   ],
   "source": [
    "df_final.sample(5)"
   ]
  },
  {
   "cell_type": "code",
   "execution_count": 88,
   "id": "30def224",
   "metadata": {
    "id": "30def224",
    "tags": []
   },
   "outputs": [],
   "source": [
    "cambioFormato(df_final,['yearweek','weekly_sales'],np.int32)"
   ]
  },
  {
   "cell_type": "code",
   "execution_count": 89,
   "id": "c4619fdc",
   "metadata": {
    "colab": {
     "base_uri": "https://localhost:8080/"
    },
    "executionInfo": {
     "elapsed": 7753,
     "status": "ok",
     "timestamp": 1678620958596,
     "user": {
      "displayName": "Sol Etcheverry",
      "userId": "02127738587789653386"
     },
     "user_tz": -60
    },
    "id": "c4619fdc",
    "outputId": "9c609483-b205-4e51-fd9e-68d6595e9467",
    "tags": []
   },
   "outputs": [
    {
     "name": "stdout",
     "output_type": "stream",
     "text": [
      "Su shape (8323770, 12)\n",
      "El número de duplicados es  0\n"
     ]
    },
    {
     "data": {
      "text/plain": [
       "yearweek        0 nulos ________\n",
       "id              0 nulos ________\n",
       "item            0 nulos ________\n",
       "category        0 nulos ________\n",
       "store           0 nulos ________\n",
       "store_code      0 nulos ________\n",
       "region          0 nulos ________\n",
       "weekly_sales    0 nulos ________\n",
       "estacion        0 nulos ________\n",
       "evento          0 nulos ________\n",
       "sell_price      0 nulos ________\n",
       "revenue         0 nulos ________\n",
       "dtype: object"
      ]
     },
     "execution_count": 89,
     "metadata": {},
     "output_type": "execute_result"
    }
   ],
   "source": [
    "datosGenerales(df_final)"
   ]
  },
  {
   "cell_type": "code",
   "execution_count": 90,
   "id": "d2d1bc6b",
   "metadata": {
    "colab": {
     "base_uri": "https://localhost:8080/"
    },
    "executionInfo": {
     "elapsed": 329,
     "status": "ok",
     "timestamp": 1678620965922,
     "user": {
      "displayName": "Sol Etcheverry",
      "userId": "02127738587789653386"
     },
     "user_tz": -60
    },
    "id": "d2d1bc6b",
    "outputId": "63c35f52-6245-4aad-c4c9-c22fc430aa94",
    "tags": []
   },
   "outputs": [
    {
     "name": "stdout",
     "output_type": "stream",
     "text": [
      "<class 'pandas.core.frame.DataFrame'>\n",
      "Int64Index: 8323770 entries, 0 to 8323769\n",
      "Data columns (total 12 columns):\n",
      " #   Column        Dtype   \n",
      "---  ------        -----   \n",
      " 0   yearweek      int32   \n",
      " 1   id            object  \n",
      " 2   item          category\n",
      " 3   category      category\n",
      " 4   store         category\n",
      " 5   store_code    category\n",
      " 6   region        category\n",
      " 7   weekly_sales  int32   \n",
      " 8   estacion      object  \n",
      " 9   evento        object  \n",
      " 10  sell_price    float64 \n",
      " 11  revenue       float64 \n",
      "dtypes: category(5), float64(2), int32(2), object(3)\n",
      "memory usage: 492.3+ MB\n"
     ]
    }
   ],
   "source": [
    "df_final.info()"
   ]
  },
  {
   "cell_type": "code",
   "execution_count": 91,
   "id": "172bdd59-4054-4433-adb1-d4c4da37de15",
   "metadata": {
    "tags": []
   },
   "outputs": [],
   "source": [
    "df_final['sell_price'] = df_final['sell_price'].round(2)\n",
    "df_final['revenue'] = df_final['revenue'].round(2)"
   ]
  },
  {
   "cell_type": "code",
   "execution_count": 92,
   "id": "6628948a-1168-4b16-8dfc-b84eadb8d2fe",
   "metadata": {},
   "outputs": [],
   "source": [
    "df_final.to_csv(f'{DATA_PATH}/df_final_powerBI.csv')"
   ]
  },
  {
   "cell_type": "code",
   "execution_count": null,
   "id": "446bd84c-92de-4fa1-b401-8bea0203aa22",
   "metadata": {},
   "outputs": [],
   "source": []
  },
  {
   "cell_type": "code",
   "execution_count": null,
   "id": "1eaeeeaa",
   "metadata": {
    "id": "1eaeeeaa"
   },
   "outputs": [],
   "source": [
    "## df_lectura = pd.read_pickle(f'{DATA_PATH}/df_unido.pkl')"
   ]
  },
  {
   "cell_type": "code",
   "execution_count": null,
   "id": "cb1ea02c",
   "metadata": {
    "id": "cb1ea02c"
   },
   "outputs": [],
   "source": []
  }
 ],
 "metadata": {
  "accelerator": "GPU",
  "colab": {
   "machine_shape": "hm",
   "provenance": []
  },
  "gpuClass": "standard",
  "kernelspec": {
   "display_name": "Python 3 (ipykernel)",
   "language": "python",
   "name": "python3"
  },
  "language_info": {
   "codemirror_mode": {
    "name": "ipython",
    "version": 3
   },
   "file_extension": ".py",
   "mimetype": "text/x-python",
   "name": "python",
   "nbconvert_exporter": "python",
   "pygments_lexer": "ipython3",
   "version": "3.8.16"
  },
  "varInspector": {
   "cols": {
    "lenName": 16,
    "lenType": 16,
    "lenVar": 40
   },
   "kernels_config": {
    "python": {
     "delete_cmd_postfix": "",
     "delete_cmd_prefix": "del ",
     "library": "var_list.py",
     "varRefreshCmd": "print(var_dic_list())"
    },
    "r": {
     "delete_cmd_postfix": ") ",
     "delete_cmd_prefix": "rm(",
     "library": "var_list.r",
     "varRefreshCmd": "cat(var_dic_list()) "
    }
   },
   "types_to_exclude": [
    "module",
    "function",
    "builtin_function_or_method",
    "instance",
    "_Feature"
   ],
   "window_display": false
  }
 },
 "nbformat": 4,
 "nbformat_minor": 5
}
